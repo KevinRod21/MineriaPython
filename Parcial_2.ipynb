{
  "nbformat": 4,
  "nbformat_minor": 0,
  "metadata": {
    "colab": {
      "provenance": []
    },
    "kernelspec": {
      "name": "python3",
      "display_name": "Python 3"
    },
    "language_info": {
      "name": "python"
    }
  },
  "cells": [
    {
      "cell_type": "markdown",
      "source": [
        "# Base y librerias"
      ],
      "metadata": {
        "id": "C28jA6cPkhyc"
      }
    },
    {
      "cell_type": "code",
      "source": [
        "!pip install researchpy"
      ],
      "metadata": {
        "colab": {
          "base_uri": "https://localhost:8080/"
        },
        "id": "fhvZAWe2fIjq",
        "outputId": "468745a1-c43f-4be7-fbb4-91143af0605f"
      },
      "execution_count": 180,
      "outputs": [
        {
          "output_type": "stream",
          "name": "stdout",
          "text": [
            "Looking in indexes: https://pypi.org/simple, https://us-python.pkg.dev/colab-wheels/public/simple/\n",
            "Requirement already satisfied: researchpy in /usr/local/lib/python3.7/dist-packages (0.3.5)\n",
            "Requirement already satisfied: numpy in /usr/local/lib/python3.7/dist-packages (from researchpy) (1.21.6)\n",
            "Requirement already satisfied: statsmodels in /usr/local/lib/python3.7/dist-packages (from researchpy) (0.12.2)\n",
            "Requirement already satisfied: scipy in /usr/local/lib/python3.7/dist-packages (from researchpy) (1.7.3)\n",
            "Requirement already satisfied: patsy in /usr/local/lib/python3.7/dist-packages (from researchpy) (0.5.2)\n",
            "Requirement already satisfied: pandas in /usr/local/lib/python3.7/dist-packages (from researchpy) (1.3.5)\n",
            "Requirement already satisfied: python-dateutil>=2.7.3 in /usr/local/lib/python3.7/dist-packages (from pandas->researchpy) (2.8.2)\n",
            "Requirement already satisfied: pytz>=2017.3 in /usr/local/lib/python3.7/dist-packages (from pandas->researchpy) (2022.4)\n",
            "Requirement already satisfied: six>=1.5 in /usr/local/lib/python3.7/dist-packages (from python-dateutil>=2.7.3->pandas->researchpy) (1.15.0)\n"
          ]
        }
      ]
    },
    {
      "cell_type": "code",
      "source": [
        "import pandas as pd\n",
        "import numpy as np\n",
        "import seaborn as sns\n",
        "import matplotlib as plt"
      ],
      "metadata": {
        "id": "4Xv9UiFUWXm9"
      },
      "execution_count": 181,
      "outputs": []
    },
    {
      "cell_type": "code",
      "execution_count": 182,
      "metadata": {
        "colab": {
          "base_uri": "https://localhost:8080/"
        },
        "id": "MUHV4eanVAof",
        "outputId": "214b02cc-3235-46c3-ba7f-ccaa9eaebc09"
      },
      "outputs": [
        {
          "output_type": "stream",
          "name": "stdout",
          "text": [
            "Drive already mounted at /content/drive; to attempt to forcibly remount, call drive.mount(\"/content/drive\", force_remount=True).\n"
          ]
        }
      ],
      "source": [
        "from google.colab import drive\n",
        "drive.mount('/content/drive')"
      ]
    },
    {
      "cell_type": "code",
      "source": [
        "pd.set_option('display.max_columns', None) #Mostrar todas las columnas\n",
        "sns.set(rc={'figure.figsize':(12.7,8.6)})"
      ],
      "metadata": {
        "id": "WpRtmTJClBTs"
      },
      "execution_count": 183,
      "outputs": []
    },
    {
      "cell_type": "markdown",
      "source": [
        "La base de datos cuenta con información de estudiantes de dos escuelas secundarias de Portugal, donde el sistema de calificaciones va de 0 a 20, siendo 10 la minima nota aprobatoria"
      ],
      "metadata": {
        "id": "tmfEUFdzMte3"
      }
    },
    {
      "cell_type": "code",
      "execution_count": 184,
      "metadata": {
        "colab": {
          "base_uri": "https://localhost:8080/",
          "height": 340
        },
        "id": "-z82z_J6EloQ",
        "outputId": "ad858daf-3628-45e0-e783-968d3919e186"
      },
      "outputs": [
        {
          "output_type": "stream",
          "name": "stderr",
          "text": [
            "/usr/local/lib/python3.7/dist-packages/IPython/core/interactiveshell.py:3326: FutureWarning: The error_bad_lines argument has been deprecated and will be removed in a future version.\n",
            "\n",
            "\n",
            "  exec(code_obj, self.user_global_ns, self.user_ns)\n"
          ]
        },
        {
          "output_type": "execute_result",
          "data": {
            "text/plain": [
              "  school sex  age address famsize Pstatus  Medu  Fedu     Mjob      Fjob  \\\n",
              "0     GP   F   18       U     GT3       A     4     4  at_home   teacher   \n",
              "1     GP   F   17       U     GT3       T     1     1  at_home     other   \n",
              "2     GP   F   15       U     LE3       T     1     1  at_home     other   \n",
              "3     GP   F   15       U     GT3       T     4     2   health  services   \n",
              "4     GP   F   16       U     GT3       T     3     3    other     other   \n",
              "\n",
              "   reason guardian  traveltime  studytime  failures schoolsup famsup paid  \\\n",
              "0  course   mother           2          2         0       yes     no   no   \n",
              "1  course   father           1          2         0        no    yes   no   \n",
              "2   other   mother           1          2         0       yes     no   no   \n",
              "3    home   mother           1          3         0        no    yes   no   \n",
              "4    home   father           1          2         0        no    yes   no   \n",
              "\n",
              "  activities nursery higher internet romantic  famrel  freetime  goout  Dalc  \\\n",
              "0         no     yes    yes       no       no       4         3      4     1   \n",
              "1         no      no    yes      yes       no       5         3      3     1   \n",
              "2         no     yes    yes      yes       no       4         3      2     2   \n",
              "3        yes     yes    yes      yes      yes       3         2      2     1   \n",
              "4         no     yes    yes       no       no       4         3      2     1   \n",
              "\n",
              "   Walc  health  absences  G1  G2  G3  \n",
              "0     1       3         4   0  11  11  \n",
              "1     1       3         2   9  11  11  \n",
              "2     3       3         6  12  13  12  \n",
              "3     1       5         0  14  14  14  \n",
              "4     2       5         0  11  13  13  "
            ],
            "text/html": [
              "\n",
              "  <div id=\"df-d596cdd6-3ee5-44b7-9c3a-44fcc54ae4cb\">\n",
              "    <div class=\"colab-df-container\">\n",
              "      <div>\n",
              "<style scoped>\n",
              "    .dataframe tbody tr th:only-of-type {\n",
              "        vertical-align: middle;\n",
              "    }\n",
              "\n",
              "    .dataframe tbody tr th {\n",
              "        vertical-align: top;\n",
              "    }\n",
              "\n",
              "    .dataframe thead th {\n",
              "        text-align: right;\n",
              "    }\n",
              "</style>\n",
              "<table border=\"1\" class=\"dataframe\">\n",
              "  <thead>\n",
              "    <tr style=\"text-align: right;\">\n",
              "      <th></th>\n",
              "      <th>school</th>\n",
              "      <th>sex</th>\n",
              "      <th>age</th>\n",
              "      <th>address</th>\n",
              "      <th>famsize</th>\n",
              "      <th>Pstatus</th>\n",
              "      <th>Medu</th>\n",
              "      <th>Fedu</th>\n",
              "      <th>Mjob</th>\n",
              "      <th>Fjob</th>\n",
              "      <th>reason</th>\n",
              "      <th>guardian</th>\n",
              "      <th>traveltime</th>\n",
              "      <th>studytime</th>\n",
              "      <th>failures</th>\n",
              "      <th>schoolsup</th>\n",
              "      <th>famsup</th>\n",
              "      <th>paid</th>\n",
              "      <th>activities</th>\n",
              "      <th>nursery</th>\n",
              "      <th>higher</th>\n",
              "      <th>internet</th>\n",
              "      <th>romantic</th>\n",
              "      <th>famrel</th>\n",
              "      <th>freetime</th>\n",
              "      <th>goout</th>\n",
              "      <th>Dalc</th>\n",
              "      <th>Walc</th>\n",
              "      <th>health</th>\n",
              "      <th>absences</th>\n",
              "      <th>G1</th>\n",
              "      <th>G2</th>\n",
              "      <th>G3</th>\n",
              "    </tr>\n",
              "  </thead>\n",
              "  <tbody>\n",
              "    <tr>\n",
              "      <th>0</th>\n",
              "      <td>GP</td>\n",
              "      <td>F</td>\n",
              "      <td>18</td>\n",
              "      <td>U</td>\n",
              "      <td>GT3</td>\n",
              "      <td>A</td>\n",
              "      <td>4</td>\n",
              "      <td>4</td>\n",
              "      <td>at_home</td>\n",
              "      <td>teacher</td>\n",
              "      <td>course</td>\n",
              "      <td>mother</td>\n",
              "      <td>2</td>\n",
              "      <td>2</td>\n",
              "      <td>0</td>\n",
              "      <td>yes</td>\n",
              "      <td>no</td>\n",
              "      <td>no</td>\n",
              "      <td>no</td>\n",
              "      <td>yes</td>\n",
              "      <td>yes</td>\n",
              "      <td>no</td>\n",
              "      <td>no</td>\n",
              "      <td>4</td>\n",
              "      <td>3</td>\n",
              "      <td>4</td>\n",
              "      <td>1</td>\n",
              "      <td>1</td>\n",
              "      <td>3</td>\n",
              "      <td>4</td>\n",
              "      <td>0</td>\n",
              "      <td>11</td>\n",
              "      <td>11</td>\n",
              "    </tr>\n",
              "    <tr>\n",
              "      <th>1</th>\n",
              "      <td>GP</td>\n",
              "      <td>F</td>\n",
              "      <td>17</td>\n",
              "      <td>U</td>\n",
              "      <td>GT3</td>\n",
              "      <td>T</td>\n",
              "      <td>1</td>\n",
              "      <td>1</td>\n",
              "      <td>at_home</td>\n",
              "      <td>other</td>\n",
              "      <td>course</td>\n",
              "      <td>father</td>\n",
              "      <td>1</td>\n",
              "      <td>2</td>\n",
              "      <td>0</td>\n",
              "      <td>no</td>\n",
              "      <td>yes</td>\n",
              "      <td>no</td>\n",
              "      <td>no</td>\n",
              "      <td>no</td>\n",
              "      <td>yes</td>\n",
              "      <td>yes</td>\n",
              "      <td>no</td>\n",
              "      <td>5</td>\n",
              "      <td>3</td>\n",
              "      <td>3</td>\n",
              "      <td>1</td>\n",
              "      <td>1</td>\n",
              "      <td>3</td>\n",
              "      <td>2</td>\n",
              "      <td>9</td>\n",
              "      <td>11</td>\n",
              "      <td>11</td>\n",
              "    </tr>\n",
              "    <tr>\n",
              "      <th>2</th>\n",
              "      <td>GP</td>\n",
              "      <td>F</td>\n",
              "      <td>15</td>\n",
              "      <td>U</td>\n",
              "      <td>LE3</td>\n",
              "      <td>T</td>\n",
              "      <td>1</td>\n",
              "      <td>1</td>\n",
              "      <td>at_home</td>\n",
              "      <td>other</td>\n",
              "      <td>other</td>\n",
              "      <td>mother</td>\n",
              "      <td>1</td>\n",
              "      <td>2</td>\n",
              "      <td>0</td>\n",
              "      <td>yes</td>\n",
              "      <td>no</td>\n",
              "      <td>no</td>\n",
              "      <td>no</td>\n",
              "      <td>yes</td>\n",
              "      <td>yes</td>\n",
              "      <td>yes</td>\n",
              "      <td>no</td>\n",
              "      <td>4</td>\n",
              "      <td>3</td>\n",
              "      <td>2</td>\n",
              "      <td>2</td>\n",
              "      <td>3</td>\n",
              "      <td>3</td>\n",
              "      <td>6</td>\n",
              "      <td>12</td>\n",
              "      <td>13</td>\n",
              "      <td>12</td>\n",
              "    </tr>\n",
              "    <tr>\n",
              "      <th>3</th>\n",
              "      <td>GP</td>\n",
              "      <td>F</td>\n",
              "      <td>15</td>\n",
              "      <td>U</td>\n",
              "      <td>GT3</td>\n",
              "      <td>T</td>\n",
              "      <td>4</td>\n",
              "      <td>2</td>\n",
              "      <td>health</td>\n",
              "      <td>services</td>\n",
              "      <td>home</td>\n",
              "      <td>mother</td>\n",
              "      <td>1</td>\n",
              "      <td>3</td>\n",
              "      <td>0</td>\n",
              "      <td>no</td>\n",
              "      <td>yes</td>\n",
              "      <td>no</td>\n",
              "      <td>yes</td>\n",
              "      <td>yes</td>\n",
              "      <td>yes</td>\n",
              "      <td>yes</td>\n",
              "      <td>yes</td>\n",
              "      <td>3</td>\n",
              "      <td>2</td>\n",
              "      <td>2</td>\n",
              "      <td>1</td>\n",
              "      <td>1</td>\n",
              "      <td>5</td>\n",
              "      <td>0</td>\n",
              "      <td>14</td>\n",
              "      <td>14</td>\n",
              "      <td>14</td>\n",
              "    </tr>\n",
              "    <tr>\n",
              "      <th>4</th>\n",
              "      <td>GP</td>\n",
              "      <td>F</td>\n",
              "      <td>16</td>\n",
              "      <td>U</td>\n",
              "      <td>GT3</td>\n",
              "      <td>T</td>\n",
              "      <td>3</td>\n",
              "      <td>3</td>\n",
              "      <td>other</td>\n",
              "      <td>other</td>\n",
              "      <td>home</td>\n",
              "      <td>father</td>\n",
              "      <td>1</td>\n",
              "      <td>2</td>\n",
              "      <td>0</td>\n",
              "      <td>no</td>\n",
              "      <td>yes</td>\n",
              "      <td>no</td>\n",
              "      <td>no</td>\n",
              "      <td>yes</td>\n",
              "      <td>yes</td>\n",
              "      <td>no</td>\n",
              "      <td>no</td>\n",
              "      <td>4</td>\n",
              "      <td>3</td>\n",
              "      <td>2</td>\n",
              "      <td>1</td>\n",
              "      <td>2</td>\n",
              "      <td>5</td>\n",
              "      <td>0</td>\n",
              "      <td>11</td>\n",
              "      <td>13</td>\n",
              "      <td>13</td>\n",
              "    </tr>\n",
              "  </tbody>\n",
              "</table>\n",
              "</div>\n",
              "      <button class=\"colab-df-convert\" onclick=\"convertToInteractive('df-d596cdd6-3ee5-44b7-9c3a-44fcc54ae4cb')\"\n",
              "              title=\"Convert this dataframe to an interactive table.\"\n",
              "              style=\"display:none;\">\n",
              "        \n",
              "  <svg xmlns=\"http://www.w3.org/2000/svg\" height=\"24px\"viewBox=\"0 0 24 24\"\n",
              "       width=\"24px\">\n",
              "    <path d=\"M0 0h24v24H0V0z\" fill=\"none\"/>\n",
              "    <path d=\"M18.56 5.44l.94 2.06.94-2.06 2.06-.94-2.06-.94-.94-2.06-.94 2.06-2.06.94zm-11 1L8.5 8.5l.94-2.06 2.06-.94-2.06-.94L8.5 2.5l-.94 2.06-2.06.94zm10 10l.94 2.06.94-2.06 2.06-.94-2.06-.94-.94-2.06-.94 2.06-2.06.94z\"/><path d=\"M17.41 7.96l-1.37-1.37c-.4-.4-.92-.59-1.43-.59-.52 0-1.04.2-1.43.59L10.3 9.45l-7.72 7.72c-.78.78-.78 2.05 0 2.83L4 21.41c.39.39.9.59 1.41.59.51 0 1.02-.2 1.41-.59l7.78-7.78 2.81-2.81c.8-.78.8-2.07 0-2.86zM5.41 20L4 18.59l7.72-7.72 1.47 1.35L5.41 20z\"/>\n",
              "  </svg>\n",
              "      </button>\n",
              "      \n",
              "  <style>\n",
              "    .colab-df-container {\n",
              "      display:flex;\n",
              "      flex-wrap:wrap;\n",
              "      gap: 12px;\n",
              "    }\n",
              "\n",
              "    .colab-df-convert {\n",
              "      background-color: #E8F0FE;\n",
              "      border: none;\n",
              "      border-radius: 50%;\n",
              "      cursor: pointer;\n",
              "      display: none;\n",
              "      fill: #1967D2;\n",
              "      height: 32px;\n",
              "      padding: 0 0 0 0;\n",
              "      width: 32px;\n",
              "    }\n",
              "\n",
              "    .colab-df-convert:hover {\n",
              "      background-color: #E2EBFA;\n",
              "      box-shadow: 0px 1px 2px rgba(60, 64, 67, 0.3), 0px 1px 3px 1px rgba(60, 64, 67, 0.15);\n",
              "      fill: #174EA6;\n",
              "    }\n",
              "\n",
              "    [theme=dark] .colab-df-convert {\n",
              "      background-color: #3B4455;\n",
              "      fill: #D2E3FC;\n",
              "    }\n",
              "\n",
              "    [theme=dark] .colab-df-convert:hover {\n",
              "      background-color: #434B5C;\n",
              "      box-shadow: 0px 1px 3px 1px rgba(0, 0, 0, 0.15);\n",
              "      filter: drop-shadow(0px 1px 2px rgba(0, 0, 0, 0.3));\n",
              "      fill: #FFFFFF;\n",
              "    }\n",
              "  </style>\n",
              "\n",
              "      <script>\n",
              "        const buttonEl =\n",
              "          document.querySelector('#df-d596cdd6-3ee5-44b7-9c3a-44fcc54ae4cb button.colab-df-convert');\n",
              "        buttonEl.style.display =\n",
              "          google.colab.kernel.accessAllowed ? 'block' : 'none';\n",
              "\n",
              "        async function convertToInteractive(key) {\n",
              "          const element = document.querySelector('#df-d596cdd6-3ee5-44b7-9c3a-44fcc54ae4cb');\n",
              "          const dataTable =\n",
              "            await google.colab.kernel.invokeFunction('convertToInteractive',\n",
              "                                                     [key], {});\n",
              "          if (!dataTable) return;\n",
              "\n",
              "          const docLinkHtml = 'Like what you see? Visit the ' +\n",
              "            '<a target=\"_blank\" href=https://colab.research.google.com/notebooks/data_table.ipynb>data table notebook</a>'\n",
              "            + ' to learn more about interactive tables.';\n",
              "          element.innerHTML = '';\n",
              "          dataTable['output_type'] = 'display_data';\n",
              "          await google.colab.output.renderOutput(dataTable, element);\n",
              "          const docLink = document.createElement('div');\n",
              "          docLink.innerHTML = docLinkHtml;\n",
              "          element.appendChild(docLink);\n",
              "        }\n",
              "      </script>\n",
              "    </div>\n",
              "  </div>\n",
              "  "
            ]
          },
          "metadata": {},
          "execution_count": 184
        }
      ],
      "source": [
        "base = pd.read_csv('/content/drive/MyDrive/Colab Notebooks/Datos_propios/student-por.csv', \n",
        "                 sep = ';',\n",
        "                 error_bad_lines=False)\n",
        "base.head()"
      ]
    },
    {
      "cell_type": "markdown",
      "source": [
        "# Verificación calidad"
      ],
      "metadata": {
        "id": "953u6aFfkn6j"
      }
    },
    {
      "cell_type": "code",
      "source": [
        "base.shape"
      ],
      "metadata": {
        "colab": {
          "base_uri": "https://localhost:8080/"
        },
        "id": "BiuNUtBi0QkK",
        "outputId": "b61acf44-1972-496a-9a11-8f81d529857f"
      },
      "execution_count": 185,
      "outputs": [
        {
          "output_type": "execute_result",
          "data": {
            "text/plain": [
              "(649, 33)"
            ]
          },
          "metadata": {},
          "execution_count": 185
        }
      ]
    },
    {
      "cell_type": "markdown",
      "source": [
        "## Datos faltantes\n"
      ],
      "metadata": {
        "id": "VNRRL2DfksMr"
      }
    },
    {
      "cell_type": "code",
      "source": [
        "for col in base.columns:\n",
        "    num_missing = base[col].isnull().sum()\n",
        "    pct_missing = np.mean(base[col].isnull())\n",
        "    #print(col,\" - \",round(pct_missing*100, 2),\"% - \",num_missing)\n",
        "    print('{} - {}% - {}'.format(col,round(pct_missing*100, 2),num_missing))"
      ],
      "metadata": {
        "colab": {
          "base_uri": "https://localhost:8080/"
        },
        "id": "htdjE0yDZPRN",
        "outputId": "47512027-3ce6-4246-a1b1-323213bec4a0"
      },
      "execution_count": 186,
      "outputs": [
        {
          "output_type": "stream",
          "name": "stdout",
          "text": [
            "school - 0.0% - 0\n",
            "sex - 0.31% - 2\n",
            "age - 0.0% - 0\n",
            "address - 0.0% - 0\n",
            "famsize - 0.31% - 2\n",
            "Pstatus - 0.31% - 2\n",
            "Medu - 0.0% - 0\n",
            "Fedu - 0.0% - 0\n",
            "Mjob - 0.0% - 0\n",
            "Fjob - 0.15% - 1\n",
            "reason - 0.0% - 0\n",
            "guardian - 0.31% - 2\n",
            "traveltime - 0.0% - 0\n",
            "studytime - 0.0% - 0\n",
            "failures - 0.0% - 0\n",
            "schoolsup - 0.0% - 0\n",
            "famsup - 0.31% - 2\n",
            "paid - 0.0% - 0\n",
            "activities - 0.0% - 0\n",
            "nursery - 0.15% - 1\n",
            "higher - 0.15% - 1\n",
            "internet - 0.0% - 0\n",
            "romantic - 0.0% - 0\n",
            "famrel - 0.0% - 0\n",
            "freetime - 0.0% - 0\n",
            "goout - 0.0% - 0\n",
            "Dalc - 0.0% - 0\n",
            "Walc - 0.0% - 0\n",
            "health - 0.0% - 0\n",
            "absences - 0.0% - 0\n",
            "G1 - 0.0% - 0\n",
            "G2 - 0.0% - 0\n",
            "G3 - 0.0% - 0\n"
          ]
        }
      ]
    },
    {
      "cell_type": "code",
      "source": [
        "base[base.isnull().any(axis=1)]"
      ],
      "metadata": {
        "colab": {
          "base_uri": "https://localhost:8080/",
          "height": 521
        },
        "id": "Xy5wx2Vekgnk",
        "outputId": "afe55e92-0250-4eb0-bd32-fe9ad513da68"
      },
      "execution_count": 187,
      "outputs": [
        {
          "output_type": "execute_result",
          "data": {
            "text/plain": [
              "    school  sex  age address famsize Pstatus  Medu  Fedu      Mjob      Fjob  \\\n",
              "99      GP    F   16       U     GT3       T     4     3     other   at_home   \n",
              "139     GP    F   15       U     GT3       T     4     4  services   at_home   \n",
              "168     GP    M   15       R     GT3       T     2     3   at_home  services   \n",
              "191     GP    M   17       U     NaN       T     3     3     other     other   \n",
              "212     GP    F   17       U     GT3       T     4     4  services   teacher   \n",
              "275     GP    F   18       U     GT3       T     2     1     other     other   \n",
              "278     GP    M   17       U     NaN       T     2     3     other     other   \n",
              "296     GP  NaN   18       U     GT3       T     2     1     other     other   \n",
              "365     GP  NaN   17       U     GT3       A     4     3  services  services   \n",
              "405     GP    F   19       U     LE3       A     2     3   at_home     other   \n",
              "430     MS    M   16       U     GT3     NaN     1     2     other     other   \n",
              "488     MS    F   19       U     GT3     NaN     1     1   at_home  services   \n",
              "625     MS    F   18       U     GT3       T     2     3   at_home       NaN   \n",
              "\n",
              "         reason guardian  traveltime  studytime  failures schoolsup famsup  \\\n",
              "99       course   mother           1          3         0       yes    NaN   \n",
              "139      course      NaN           1          3         0        no    yes   \n",
              "168      course   mother           1          2         0       yes    NaN   \n",
              "191  reputation   father           1          2         0        no     no   \n",
              "212        home   mother           2          1         1        no    yes   \n",
              "275      course    other           2          3         0        no    yes   \n",
              "278      course   father           2          1         0        no     no   \n",
              "296        home   mother           1          2         0        no     no   \n",
              "365      course   mother           1          2         0        no    yes   \n",
              "405        home      NaN           2          1         1        no     no   \n",
              "430       other   mother           1          3         0       yes     no   \n",
              "488      course   mother           1          3         1        no     no   \n",
              "625      course   father           2          1         0        no    yes   \n",
              "\n",
              "    paid activities nursery higher internet romantic  famrel  freetime  goout  \\\n",
              "99    no         no     yes    yes      yes       no       5         3      5   \n",
              "139   no        yes     yes    yes      yes      yes       4         3      3   \n",
              "168  yes        yes     yes    yes       no       no       4         4      4   \n",
              "191   no        yes      no    yes      yes       no       4         3      4   \n",
              "212   no         no     yes    NaN      yes       no       4         2      4   \n",
              "275   no         no     NaN    yes      yes      yes       4         4      4   \n",
              "278   no         no     yes    yes      yes       no       5         2      2   \n",
              "296   no        yes     yes    yes      yes       no       5         2      4   \n",
              "365   no         no     yes    yes      yes      yes       5         2      2   \n",
              "405   no         no     yes     no      yes       no       2         2      3   \n",
              "430   no         no     yes    yes      yes       no       4         4      3   \n",
              "488   no        yes     yes     no       no      yes       5         3      1   \n",
              "625   no         no     yes    yes      yes      yes       5         2      3   \n",
              "\n",
              "     Dalc  Walc  health  absences  G1  G2  G3  \n",
              "99      1     1       3         2  12  13  13  \n",
              "139     1     1       5         4  13  14  15  \n",
              "168     1     1       1         0   7   8   8  \n",
              "191     1     4       4         4  11   9  10  \n",
              "212     2     3       2        30  14  15  16  \n",
              "275     1     1       3        10  12  10  11  \n",
              "278     1     1       2         2   9  12  13  \n",
              "296     1     2       4         2  16  16  16  \n",
              "365     1     2       5        14  15  14  17  \n",
              "405     3     4       5        16  10  11  11  \n",
              "430     1     1       5         0  10  11  11  \n",
              "488     1     1       3         6   7   9   9  \n",
              "625     1     2       4         0  10  10  10  "
            ],
            "text/html": [
              "\n",
              "  <div id=\"df-cde00718-884c-412e-b7e9-1e0171802c2e\">\n",
              "    <div class=\"colab-df-container\">\n",
              "      <div>\n",
              "<style scoped>\n",
              "    .dataframe tbody tr th:only-of-type {\n",
              "        vertical-align: middle;\n",
              "    }\n",
              "\n",
              "    .dataframe tbody tr th {\n",
              "        vertical-align: top;\n",
              "    }\n",
              "\n",
              "    .dataframe thead th {\n",
              "        text-align: right;\n",
              "    }\n",
              "</style>\n",
              "<table border=\"1\" class=\"dataframe\">\n",
              "  <thead>\n",
              "    <tr style=\"text-align: right;\">\n",
              "      <th></th>\n",
              "      <th>school</th>\n",
              "      <th>sex</th>\n",
              "      <th>age</th>\n",
              "      <th>address</th>\n",
              "      <th>famsize</th>\n",
              "      <th>Pstatus</th>\n",
              "      <th>Medu</th>\n",
              "      <th>Fedu</th>\n",
              "      <th>Mjob</th>\n",
              "      <th>Fjob</th>\n",
              "      <th>reason</th>\n",
              "      <th>guardian</th>\n",
              "      <th>traveltime</th>\n",
              "      <th>studytime</th>\n",
              "      <th>failures</th>\n",
              "      <th>schoolsup</th>\n",
              "      <th>famsup</th>\n",
              "      <th>paid</th>\n",
              "      <th>activities</th>\n",
              "      <th>nursery</th>\n",
              "      <th>higher</th>\n",
              "      <th>internet</th>\n",
              "      <th>romantic</th>\n",
              "      <th>famrel</th>\n",
              "      <th>freetime</th>\n",
              "      <th>goout</th>\n",
              "      <th>Dalc</th>\n",
              "      <th>Walc</th>\n",
              "      <th>health</th>\n",
              "      <th>absences</th>\n",
              "      <th>G1</th>\n",
              "      <th>G2</th>\n",
              "      <th>G3</th>\n",
              "    </tr>\n",
              "  </thead>\n",
              "  <tbody>\n",
              "    <tr>\n",
              "      <th>99</th>\n",
              "      <td>GP</td>\n",
              "      <td>F</td>\n",
              "      <td>16</td>\n",
              "      <td>U</td>\n",
              "      <td>GT3</td>\n",
              "      <td>T</td>\n",
              "      <td>4</td>\n",
              "      <td>3</td>\n",
              "      <td>other</td>\n",
              "      <td>at_home</td>\n",
              "      <td>course</td>\n",
              "      <td>mother</td>\n",
              "      <td>1</td>\n",
              "      <td>3</td>\n",
              "      <td>0</td>\n",
              "      <td>yes</td>\n",
              "      <td>NaN</td>\n",
              "      <td>no</td>\n",
              "      <td>no</td>\n",
              "      <td>yes</td>\n",
              "      <td>yes</td>\n",
              "      <td>yes</td>\n",
              "      <td>no</td>\n",
              "      <td>5</td>\n",
              "      <td>3</td>\n",
              "      <td>5</td>\n",
              "      <td>1</td>\n",
              "      <td>1</td>\n",
              "      <td>3</td>\n",
              "      <td>2</td>\n",
              "      <td>12</td>\n",
              "      <td>13</td>\n",
              "      <td>13</td>\n",
              "    </tr>\n",
              "    <tr>\n",
              "      <th>139</th>\n",
              "      <td>GP</td>\n",
              "      <td>F</td>\n",
              "      <td>15</td>\n",
              "      <td>U</td>\n",
              "      <td>GT3</td>\n",
              "      <td>T</td>\n",
              "      <td>4</td>\n",
              "      <td>4</td>\n",
              "      <td>services</td>\n",
              "      <td>at_home</td>\n",
              "      <td>course</td>\n",
              "      <td>NaN</td>\n",
              "      <td>1</td>\n",
              "      <td>3</td>\n",
              "      <td>0</td>\n",
              "      <td>no</td>\n",
              "      <td>yes</td>\n",
              "      <td>no</td>\n",
              "      <td>yes</td>\n",
              "      <td>yes</td>\n",
              "      <td>yes</td>\n",
              "      <td>yes</td>\n",
              "      <td>yes</td>\n",
              "      <td>4</td>\n",
              "      <td>3</td>\n",
              "      <td>3</td>\n",
              "      <td>1</td>\n",
              "      <td>1</td>\n",
              "      <td>5</td>\n",
              "      <td>4</td>\n",
              "      <td>13</td>\n",
              "      <td>14</td>\n",
              "      <td>15</td>\n",
              "    </tr>\n",
              "    <tr>\n",
              "      <th>168</th>\n",
              "      <td>GP</td>\n",
              "      <td>M</td>\n",
              "      <td>15</td>\n",
              "      <td>R</td>\n",
              "      <td>GT3</td>\n",
              "      <td>T</td>\n",
              "      <td>2</td>\n",
              "      <td>3</td>\n",
              "      <td>at_home</td>\n",
              "      <td>services</td>\n",
              "      <td>course</td>\n",
              "      <td>mother</td>\n",
              "      <td>1</td>\n",
              "      <td>2</td>\n",
              "      <td>0</td>\n",
              "      <td>yes</td>\n",
              "      <td>NaN</td>\n",
              "      <td>yes</td>\n",
              "      <td>yes</td>\n",
              "      <td>yes</td>\n",
              "      <td>yes</td>\n",
              "      <td>no</td>\n",
              "      <td>no</td>\n",
              "      <td>4</td>\n",
              "      <td>4</td>\n",
              "      <td>4</td>\n",
              "      <td>1</td>\n",
              "      <td>1</td>\n",
              "      <td>1</td>\n",
              "      <td>0</td>\n",
              "      <td>7</td>\n",
              "      <td>8</td>\n",
              "      <td>8</td>\n",
              "    </tr>\n",
              "    <tr>\n",
              "      <th>191</th>\n",
              "      <td>GP</td>\n",
              "      <td>M</td>\n",
              "      <td>17</td>\n",
              "      <td>U</td>\n",
              "      <td>NaN</td>\n",
              "      <td>T</td>\n",
              "      <td>3</td>\n",
              "      <td>3</td>\n",
              "      <td>other</td>\n",
              "      <td>other</td>\n",
              "      <td>reputation</td>\n",
              "      <td>father</td>\n",
              "      <td>1</td>\n",
              "      <td>2</td>\n",
              "      <td>0</td>\n",
              "      <td>no</td>\n",
              "      <td>no</td>\n",
              "      <td>no</td>\n",
              "      <td>yes</td>\n",
              "      <td>no</td>\n",
              "      <td>yes</td>\n",
              "      <td>yes</td>\n",
              "      <td>no</td>\n",
              "      <td>4</td>\n",
              "      <td>3</td>\n",
              "      <td>4</td>\n",
              "      <td>1</td>\n",
              "      <td>4</td>\n",
              "      <td>4</td>\n",
              "      <td>4</td>\n",
              "      <td>11</td>\n",
              "      <td>9</td>\n",
              "      <td>10</td>\n",
              "    </tr>\n",
              "    <tr>\n",
              "      <th>212</th>\n",
              "      <td>GP</td>\n",
              "      <td>F</td>\n",
              "      <td>17</td>\n",
              "      <td>U</td>\n",
              "      <td>GT3</td>\n",
              "      <td>T</td>\n",
              "      <td>4</td>\n",
              "      <td>4</td>\n",
              "      <td>services</td>\n",
              "      <td>teacher</td>\n",
              "      <td>home</td>\n",
              "      <td>mother</td>\n",
              "      <td>2</td>\n",
              "      <td>1</td>\n",
              "      <td>1</td>\n",
              "      <td>no</td>\n",
              "      <td>yes</td>\n",
              "      <td>no</td>\n",
              "      <td>no</td>\n",
              "      <td>yes</td>\n",
              "      <td>NaN</td>\n",
              "      <td>yes</td>\n",
              "      <td>no</td>\n",
              "      <td>4</td>\n",
              "      <td>2</td>\n",
              "      <td>4</td>\n",
              "      <td>2</td>\n",
              "      <td>3</td>\n",
              "      <td>2</td>\n",
              "      <td>30</td>\n",
              "      <td>14</td>\n",
              "      <td>15</td>\n",
              "      <td>16</td>\n",
              "    </tr>\n",
              "    <tr>\n",
              "      <th>275</th>\n",
              "      <td>GP</td>\n",
              "      <td>F</td>\n",
              "      <td>18</td>\n",
              "      <td>U</td>\n",
              "      <td>GT3</td>\n",
              "      <td>T</td>\n",
              "      <td>2</td>\n",
              "      <td>1</td>\n",
              "      <td>other</td>\n",
              "      <td>other</td>\n",
              "      <td>course</td>\n",
              "      <td>other</td>\n",
              "      <td>2</td>\n",
              "      <td>3</td>\n",
              "      <td>0</td>\n",
              "      <td>no</td>\n",
              "      <td>yes</td>\n",
              "      <td>no</td>\n",
              "      <td>no</td>\n",
              "      <td>NaN</td>\n",
              "      <td>yes</td>\n",
              "      <td>yes</td>\n",
              "      <td>yes</td>\n",
              "      <td>4</td>\n",
              "      <td>4</td>\n",
              "      <td>4</td>\n",
              "      <td>1</td>\n",
              "      <td>1</td>\n",
              "      <td>3</td>\n",
              "      <td>10</td>\n",
              "      <td>12</td>\n",
              "      <td>10</td>\n",
              "      <td>11</td>\n",
              "    </tr>\n",
              "    <tr>\n",
              "      <th>278</th>\n",
              "      <td>GP</td>\n",
              "      <td>M</td>\n",
              "      <td>17</td>\n",
              "      <td>U</td>\n",
              "      <td>NaN</td>\n",
              "      <td>T</td>\n",
              "      <td>2</td>\n",
              "      <td>3</td>\n",
              "      <td>other</td>\n",
              "      <td>other</td>\n",
              "      <td>course</td>\n",
              "      <td>father</td>\n",
              "      <td>2</td>\n",
              "      <td>1</td>\n",
              "      <td>0</td>\n",
              "      <td>no</td>\n",
              "      <td>no</td>\n",
              "      <td>no</td>\n",
              "      <td>no</td>\n",
              "      <td>yes</td>\n",
              "      <td>yes</td>\n",
              "      <td>yes</td>\n",
              "      <td>no</td>\n",
              "      <td>5</td>\n",
              "      <td>2</td>\n",
              "      <td>2</td>\n",
              "      <td>1</td>\n",
              "      <td>1</td>\n",
              "      <td>2</td>\n",
              "      <td>2</td>\n",
              "      <td>9</td>\n",
              "      <td>12</td>\n",
              "      <td>13</td>\n",
              "    </tr>\n",
              "    <tr>\n",
              "      <th>296</th>\n",
              "      <td>GP</td>\n",
              "      <td>NaN</td>\n",
              "      <td>18</td>\n",
              "      <td>U</td>\n",
              "      <td>GT3</td>\n",
              "      <td>T</td>\n",
              "      <td>2</td>\n",
              "      <td>1</td>\n",
              "      <td>other</td>\n",
              "      <td>other</td>\n",
              "      <td>home</td>\n",
              "      <td>mother</td>\n",
              "      <td>1</td>\n",
              "      <td>2</td>\n",
              "      <td>0</td>\n",
              "      <td>no</td>\n",
              "      <td>no</td>\n",
              "      <td>no</td>\n",
              "      <td>yes</td>\n",
              "      <td>yes</td>\n",
              "      <td>yes</td>\n",
              "      <td>yes</td>\n",
              "      <td>no</td>\n",
              "      <td>5</td>\n",
              "      <td>2</td>\n",
              "      <td>4</td>\n",
              "      <td>1</td>\n",
              "      <td>2</td>\n",
              "      <td>4</td>\n",
              "      <td>2</td>\n",
              "      <td>16</td>\n",
              "      <td>16</td>\n",
              "      <td>16</td>\n",
              "    </tr>\n",
              "    <tr>\n",
              "      <th>365</th>\n",
              "      <td>GP</td>\n",
              "      <td>NaN</td>\n",
              "      <td>17</td>\n",
              "      <td>U</td>\n",
              "      <td>GT3</td>\n",
              "      <td>A</td>\n",
              "      <td>4</td>\n",
              "      <td>3</td>\n",
              "      <td>services</td>\n",
              "      <td>services</td>\n",
              "      <td>course</td>\n",
              "      <td>mother</td>\n",
              "      <td>1</td>\n",
              "      <td>2</td>\n",
              "      <td>0</td>\n",
              "      <td>no</td>\n",
              "      <td>yes</td>\n",
              "      <td>no</td>\n",
              "      <td>no</td>\n",
              "      <td>yes</td>\n",
              "      <td>yes</td>\n",
              "      <td>yes</td>\n",
              "      <td>yes</td>\n",
              "      <td>5</td>\n",
              "      <td>2</td>\n",
              "      <td>2</td>\n",
              "      <td>1</td>\n",
              "      <td>2</td>\n",
              "      <td>5</td>\n",
              "      <td>14</td>\n",
              "      <td>15</td>\n",
              "      <td>14</td>\n",
              "      <td>17</td>\n",
              "    </tr>\n",
              "    <tr>\n",
              "      <th>405</th>\n",
              "      <td>GP</td>\n",
              "      <td>F</td>\n",
              "      <td>19</td>\n",
              "      <td>U</td>\n",
              "      <td>LE3</td>\n",
              "      <td>A</td>\n",
              "      <td>2</td>\n",
              "      <td>3</td>\n",
              "      <td>at_home</td>\n",
              "      <td>other</td>\n",
              "      <td>home</td>\n",
              "      <td>NaN</td>\n",
              "      <td>2</td>\n",
              "      <td>1</td>\n",
              "      <td>1</td>\n",
              "      <td>no</td>\n",
              "      <td>no</td>\n",
              "      <td>no</td>\n",
              "      <td>no</td>\n",
              "      <td>yes</td>\n",
              "      <td>no</td>\n",
              "      <td>yes</td>\n",
              "      <td>no</td>\n",
              "      <td>2</td>\n",
              "      <td>2</td>\n",
              "      <td>3</td>\n",
              "      <td>3</td>\n",
              "      <td>4</td>\n",
              "      <td>5</td>\n",
              "      <td>16</td>\n",
              "      <td>10</td>\n",
              "      <td>11</td>\n",
              "      <td>11</td>\n",
              "    </tr>\n",
              "    <tr>\n",
              "      <th>430</th>\n",
              "      <td>MS</td>\n",
              "      <td>M</td>\n",
              "      <td>16</td>\n",
              "      <td>U</td>\n",
              "      <td>GT3</td>\n",
              "      <td>NaN</td>\n",
              "      <td>1</td>\n",
              "      <td>2</td>\n",
              "      <td>other</td>\n",
              "      <td>other</td>\n",
              "      <td>other</td>\n",
              "      <td>mother</td>\n",
              "      <td>1</td>\n",
              "      <td>3</td>\n",
              "      <td>0</td>\n",
              "      <td>yes</td>\n",
              "      <td>no</td>\n",
              "      <td>no</td>\n",
              "      <td>no</td>\n",
              "      <td>yes</td>\n",
              "      <td>yes</td>\n",
              "      <td>yes</td>\n",
              "      <td>no</td>\n",
              "      <td>4</td>\n",
              "      <td>4</td>\n",
              "      <td>3</td>\n",
              "      <td>1</td>\n",
              "      <td>1</td>\n",
              "      <td>5</td>\n",
              "      <td>0</td>\n",
              "      <td>10</td>\n",
              "      <td>11</td>\n",
              "      <td>11</td>\n",
              "    </tr>\n",
              "    <tr>\n",
              "      <th>488</th>\n",
              "      <td>MS</td>\n",
              "      <td>F</td>\n",
              "      <td>19</td>\n",
              "      <td>U</td>\n",
              "      <td>GT3</td>\n",
              "      <td>NaN</td>\n",
              "      <td>1</td>\n",
              "      <td>1</td>\n",
              "      <td>at_home</td>\n",
              "      <td>services</td>\n",
              "      <td>course</td>\n",
              "      <td>mother</td>\n",
              "      <td>1</td>\n",
              "      <td>3</td>\n",
              "      <td>1</td>\n",
              "      <td>no</td>\n",
              "      <td>no</td>\n",
              "      <td>no</td>\n",
              "      <td>yes</td>\n",
              "      <td>yes</td>\n",
              "      <td>no</td>\n",
              "      <td>no</td>\n",
              "      <td>yes</td>\n",
              "      <td>5</td>\n",
              "      <td>3</td>\n",
              "      <td>1</td>\n",
              "      <td>1</td>\n",
              "      <td>1</td>\n",
              "      <td>3</td>\n",
              "      <td>6</td>\n",
              "      <td>7</td>\n",
              "      <td>9</td>\n",
              "      <td>9</td>\n",
              "    </tr>\n",
              "    <tr>\n",
              "      <th>625</th>\n",
              "      <td>MS</td>\n",
              "      <td>F</td>\n",
              "      <td>18</td>\n",
              "      <td>U</td>\n",
              "      <td>GT3</td>\n",
              "      <td>T</td>\n",
              "      <td>2</td>\n",
              "      <td>3</td>\n",
              "      <td>at_home</td>\n",
              "      <td>NaN</td>\n",
              "      <td>course</td>\n",
              "      <td>father</td>\n",
              "      <td>2</td>\n",
              "      <td>1</td>\n",
              "      <td>0</td>\n",
              "      <td>no</td>\n",
              "      <td>yes</td>\n",
              "      <td>no</td>\n",
              "      <td>no</td>\n",
              "      <td>yes</td>\n",
              "      <td>yes</td>\n",
              "      <td>yes</td>\n",
              "      <td>yes</td>\n",
              "      <td>5</td>\n",
              "      <td>2</td>\n",
              "      <td>3</td>\n",
              "      <td>1</td>\n",
              "      <td>2</td>\n",
              "      <td>4</td>\n",
              "      <td>0</td>\n",
              "      <td>10</td>\n",
              "      <td>10</td>\n",
              "      <td>10</td>\n",
              "    </tr>\n",
              "  </tbody>\n",
              "</table>\n",
              "</div>\n",
              "      <button class=\"colab-df-convert\" onclick=\"convertToInteractive('df-cde00718-884c-412e-b7e9-1e0171802c2e')\"\n",
              "              title=\"Convert this dataframe to an interactive table.\"\n",
              "              style=\"display:none;\">\n",
              "        \n",
              "  <svg xmlns=\"http://www.w3.org/2000/svg\" height=\"24px\"viewBox=\"0 0 24 24\"\n",
              "       width=\"24px\">\n",
              "    <path d=\"M0 0h24v24H0V0z\" fill=\"none\"/>\n",
              "    <path d=\"M18.56 5.44l.94 2.06.94-2.06 2.06-.94-2.06-.94-.94-2.06-.94 2.06-2.06.94zm-11 1L8.5 8.5l.94-2.06 2.06-.94-2.06-.94L8.5 2.5l-.94 2.06-2.06.94zm10 10l.94 2.06.94-2.06 2.06-.94-2.06-.94-.94-2.06-.94 2.06-2.06.94z\"/><path d=\"M17.41 7.96l-1.37-1.37c-.4-.4-.92-.59-1.43-.59-.52 0-1.04.2-1.43.59L10.3 9.45l-7.72 7.72c-.78.78-.78 2.05 0 2.83L4 21.41c.39.39.9.59 1.41.59.51 0 1.02-.2 1.41-.59l7.78-7.78 2.81-2.81c.8-.78.8-2.07 0-2.86zM5.41 20L4 18.59l7.72-7.72 1.47 1.35L5.41 20z\"/>\n",
              "  </svg>\n",
              "      </button>\n",
              "      \n",
              "  <style>\n",
              "    .colab-df-container {\n",
              "      display:flex;\n",
              "      flex-wrap:wrap;\n",
              "      gap: 12px;\n",
              "    }\n",
              "\n",
              "    .colab-df-convert {\n",
              "      background-color: #E8F0FE;\n",
              "      border: none;\n",
              "      border-radius: 50%;\n",
              "      cursor: pointer;\n",
              "      display: none;\n",
              "      fill: #1967D2;\n",
              "      height: 32px;\n",
              "      padding: 0 0 0 0;\n",
              "      width: 32px;\n",
              "    }\n",
              "\n",
              "    .colab-df-convert:hover {\n",
              "      background-color: #E2EBFA;\n",
              "      box-shadow: 0px 1px 2px rgba(60, 64, 67, 0.3), 0px 1px 3px 1px rgba(60, 64, 67, 0.15);\n",
              "      fill: #174EA6;\n",
              "    }\n",
              "\n",
              "    [theme=dark] .colab-df-convert {\n",
              "      background-color: #3B4455;\n",
              "      fill: #D2E3FC;\n",
              "    }\n",
              "\n",
              "    [theme=dark] .colab-df-convert:hover {\n",
              "      background-color: #434B5C;\n",
              "      box-shadow: 0px 1px 3px 1px rgba(0, 0, 0, 0.15);\n",
              "      filter: drop-shadow(0px 1px 2px rgba(0, 0, 0, 0.3));\n",
              "      fill: #FFFFFF;\n",
              "    }\n",
              "  </style>\n",
              "\n",
              "      <script>\n",
              "        const buttonEl =\n",
              "          document.querySelector('#df-cde00718-884c-412e-b7e9-1e0171802c2e button.colab-df-convert');\n",
              "        buttonEl.style.display =\n",
              "          google.colab.kernel.accessAllowed ? 'block' : 'none';\n",
              "\n",
              "        async function convertToInteractive(key) {\n",
              "          const element = document.querySelector('#df-cde00718-884c-412e-b7e9-1e0171802c2e');\n",
              "          const dataTable =\n",
              "            await google.colab.kernel.invokeFunction('convertToInteractive',\n",
              "                                                     [key], {});\n",
              "          if (!dataTable) return;\n",
              "\n",
              "          const docLinkHtml = 'Like what you see? Visit the ' +\n",
              "            '<a target=\"_blank\" href=https://colab.research.google.com/notebooks/data_table.ipynb>data table notebook</a>'\n",
              "            + ' to learn more about interactive tables.';\n",
              "          element.innerHTML = '';\n",
              "          dataTable['output_type'] = 'display_data';\n",
              "          await google.colab.output.renderOutput(dataTable, element);\n",
              "          const docLink = document.createElement('div');\n",
              "          docLink.innerHTML = docLinkHtml;\n",
              "          element.appendChild(docLink);\n",
              "        }\n",
              "      </script>\n",
              "    </div>\n",
              "  </div>\n",
              "  "
            ]
          },
          "metadata": {},
          "execution_count": 187
        }
      ]
    },
    {
      "cell_type": "markdown",
      "source": [
        "En total se encontraron 8 variables con valores faltantes, sumando en total 13 individuos con 1 valor faltantes cada uno.\n",
        "\n",
        "Se opta por eliminar estos valores, que a pesar de tener mas variables con las que construir un modelo, si se desea posterioremnte usar una prueba para ver relación entre estas variables es mejor no tener una categoria tan pequeña en las mismas, siendo que el valor maximo que llegarian a tomar seria de 2"
      ],
      "metadata": {
        "id": "s5wljmek5IJ7"
      }
    },
    {
      "cell_type": "code",
      "source": [
        "base_sin=base.dropna()\n",
        "base_sin.reset_index(drop=True)\n",
        "base_sin.shape"
      ],
      "metadata": {
        "colab": {
          "base_uri": "https://localhost:8080/"
        },
        "id": "ksUb2BzmButL",
        "outputId": "7e56a4ac-9d1d-469e-ef7c-758bac28ad1e"
      },
      "execution_count": 188,
      "outputs": [
        {
          "output_type": "execute_result",
          "data": {
            "text/plain": [
              "(636, 33)"
            ]
          },
          "metadata": {},
          "execution_count": 188
        }
      ]
    },
    {
      "cell_type": "markdown",
      "source": [
        "## consistencia"
      ],
      "metadata": {
        "id": "2aqLSs0R7jnM"
      }
    },
    {
      "cell_type": "code",
      "source": [
        "base_sin.health.value_counts()"
      ],
      "metadata": {
        "colab": {
          "base_uri": "https://localhost:8080/"
        },
        "id": "H6bm28M9N5wS",
        "outputId": "38ae12c9-797d-4107-9885-21a62086aaed"
      },
      "execution_count": 189,
      "outputs": [
        {
          "output_type": "execute_result",
          "data": {
            "text/plain": [
              "5    245\n",
              "3    121\n",
              "4    105\n",
              "1     89\n",
              "2     76\n",
              "Name: health, dtype: int64"
            ]
          },
          "metadata": {},
          "execution_count": 189
        }
      ]
    },
    {
      "cell_type": "code",
      "source": [
        "base_sin.Walc.value_counts()"
      ],
      "metadata": {
        "colab": {
          "base_uri": "https://localhost:8080/"
        },
        "id": "66-HEaNRN2dN",
        "outputId": "d39783dd-8a9e-4f4f-c88a-cfdb9262b84e"
      },
      "execution_count": 190,
      "outputs": [
        {
          "output_type": "execute_result",
          "data": {
            "text/plain": [
              "1    240\n",
              "2    147\n",
              "3    119\n",
              "4     85\n",
              "5     45\n",
              "Name: Walc, dtype: int64"
            ]
          },
          "metadata": {},
          "execution_count": 190
        }
      ]
    },
    {
      "cell_type": "code",
      "source": [
        "base_sin.Dalc.value_counts()"
      ],
      "metadata": {
        "colab": {
          "base_uri": "https://localhost:8080/"
        },
        "id": "Xq5sfohsNx51",
        "outputId": "443114a8-44d1-4bf8-ca6a-edcf8d5d30cd"
      },
      "execution_count": 191,
      "outputs": [
        {
          "output_type": "execute_result",
          "data": {
            "text/plain": [
              "1    440\n",
              "2    120\n",
              "3     42\n",
              "5     17\n",
              "4     17\n",
              "Name: Dalc, dtype: int64"
            ]
          },
          "metadata": {},
          "execution_count": 191
        }
      ]
    },
    {
      "cell_type": "code",
      "source": [
        "base_sin.goout.value_counts()"
      ],
      "metadata": {
        "colab": {
          "base_uri": "https://localhost:8080/"
        },
        "id": "OjHIZbZTNusP",
        "outputId": "8259e92c-da60-45c7-ba25-582a7d87d69c"
      },
      "execution_count": 192,
      "outputs": [
        {
          "output_type": "execute_result",
          "data": {
            "text/plain": [
              "3    201\n",
              "2    143\n",
              "4    136\n",
              "5    109\n",
              "1     47\n",
              "Name: goout, dtype: int64"
            ]
          },
          "metadata": {},
          "execution_count": 192
        }
      ]
    },
    {
      "cell_type": "code",
      "source": [
        "base_sin.freetime.value_counts()"
      ],
      "metadata": {
        "colab": {
          "base_uri": "https://localhost:8080/"
        },
        "id": "7AB5bEbHNrG9",
        "outputId": "a7bbf93d-d0db-4bc9-d1a6-54132b3dc3b7"
      },
      "execution_count": 193,
      "outputs": [
        {
          "output_type": "execute_result",
          "data": {
            "text/plain": [
              "3    247\n",
              "4    175\n",
              "2    101\n",
              "5     68\n",
              "1     45\n",
              "Name: freetime, dtype: int64"
            ]
          },
          "metadata": {},
          "execution_count": 193
        }
      ]
    },
    {
      "cell_type": "code",
      "source": [
        "base_sin.famrel.value_counts()"
      ],
      "metadata": {
        "colab": {
          "base_uri": "https://localhost:8080/"
        },
        "id": "Zv0qAaQENlge",
        "outputId": "608ab7fc-1aaf-480a-e5c0-c6e9f5a40d66"
      },
      "execution_count": 194,
      "outputs": [
        {
          "output_type": "execute_result",
          "data": {
            "text/plain": [
              "4    311\n",
              "5    174\n",
              "3    101\n",
              "2     28\n",
              "1     22\n",
              "Name: famrel, dtype: int64"
            ]
          },
          "metadata": {},
          "execution_count": 194
        }
      ]
    },
    {
      "cell_type": "code",
      "source": [
        "base_sin.romantic.value_counts()"
      ],
      "metadata": {
        "colab": {
          "base_uri": "https://localhost:8080/"
        },
        "id": "DHOzFCOVNXIN",
        "outputId": "ac424469-13ed-4c78-9f06-55419553c97c"
      },
      "execution_count": 195,
      "outputs": [
        {
          "output_type": "execute_result",
          "data": {
            "text/plain": [
              "no     401\n",
              "yes    234\n",
              "No       1\n",
              "Name: romantic, dtype: int64"
            ]
          },
          "metadata": {},
          "execution_count": 195
        }
      ]
    },
    {
      "cell_type": "code",
      "source": [
        "base_sin.internet.value_counts()"
      ],
      "metadata": {
        "colab": {
          "base_uri": "https://localhost:8080/"
        },
        "id": "KzOeS6xQNP2p",
        "outputId": "b13fed97-b743-4ddd-d180-2f9cdccf2f8e"
      },
      "execution_count": 196,
      "outputs": [
        {
          "output_type": "execute_result",
          "data": {
            "text/plain": [
              "yes    486\n",
              "no     149\n",
              "Yes      1\n",
              "Name: internet, dtype: int64"
            ]
          },
          "metadata": {},
          "execution_count": 196
        }
      ]
    },
    {
      "cell_type": "code",
      "source": [
        "base_sin.higher.value_counts()"
      ],
      "metadata": {
        "colab": {
          "base_uri": "https://localhost:8080/"
        },
        "id": "ksPGautjNMCk",
        "outputId": "4c8a1eb9-d311-42bb-bc89-1fa38398c5b0"
      },
      "execution_count": 197,
      "outputs": [
        {
          "output_type": "execute_result",
          "data": {
            "text/plain": [
              "yes    569\n",
              "no      67\n",
              "Name: higher, dtype: int64"
            ]
          },
          "metadata": {},
          "execution_count": 197
        }
      ]
    },
    {
      "cell_type": "code",
      "source": [
        "base_sin.nursery.value_counts()"
      ],
      "metadata": {
        "colab": {
          "base_uri": "https://localhost:8080/"
        },
        "id": "feh0XMC_NDOi",
        "outputId": "aaaaad46-ba8c-4a54-e5ef-44c45a042c5d"
      },
      "execution_count": 198,
      "outputs": [
        {
          "output_type": "execute_result",
          "data": {
            "text/plain": [
              "yes    510\n",
              "no     125\n",
              "No       1\n",
              "Name: nursery, dtype: int64"
            ]
          },
          "metadata": {},
          "execution_count": 198
        }
      ]
    },
    {
      "cell_type": "code",
      "source": [
        "base_sin.activities.value_counts()"
      ],
      "metadata": {
        "colab": {
          "base_uri": "https://localhost:8080/"
        },
        "id": "dYMFmSj0M3hc",
        "outputId": "76b2d270-f966-43cf-afa2-9d998b83d045"
      },
      "execution_count": 199,
      "outputs": [
        {
          "output_type": "execute_result",
          "data": {
            "text/plain": [
              "no     325\n",
              "yes    309\n",
              "Yes      1\n",
              "No       1\n",
              "Name: activities, dtype: int64"
            ]
          },
          "metadata": {},
          "execution_count": 199
        }
      ]
    },
    {
      "cell_type": "code",
      "source": [
        "base_sin.paid.value_counts()"
      ],
      "metadata": {
        "colab": {
          "base_uri": "https://localhost:8080/"
        },
        "id": "2m5JfZgyMrU9",
        "outputId": "c43e2939-bd3f-401f-dc32-2bd573c8c1b5"
      },
      "execution_count": 200,
      "outputs": [
        {
          "output_type": "execute_result",
          "data": {
            "text/plain": [
              "no     596\n",
              "yes     38\n",
              "No       2\n",
              "Name: paid, dtype: int64"
            ]
          },
          "metadata": {},
          "execution_count": 200
        }
      ]
    },
    {
      "cell_type": "code",
      "source": [
        "base_sin.famsup.value_counts()"
      ],
      "metadata": {
        "colab": {
          "base_uri": "https://localhost:8080/"
        },
        "id": "FZ5DEFnxMlYF",
        "outputId": "59f0aab3-7937-4f51-d30c-7a5c714fb7b9"
      },
      "execution_count": 201,
      "outputs": [
        {
          "output_type": "execute_result",
          "data": {
            "text/plain": [
              "yes    392\n",
              "no     244\n",
              "Name: famsup, dtype: int64"
            ]
          },
          "metadata": {},
          "execution_count": 201
        }
      ]
    },
    {
      "cell_type": "code",
      "source": [
        "base_sin.failures.value_counts()"
      ],
      "metadata": {
        "colab": {
          "base_uri": "https://localhost:8080/"
        },
        "id": "EY0mqyxgMaw-",
        "outputId": "d1021aad-a265-4918-a48d-a141893b88a1"
      },
      "execution_count": 202,
      "outputs": [
        {
          "output_type": "execute_result",
          "data": {
            "text/plain": [
              "0    539\n",
              "1     67\n",
              "2     16\n",
              "3     14\n",
              "Name: failures, dtype: int64"
            ]
          },
          "metadata": {},
          "execution_count": 202
        }
      ]
    },
    {
      "cell_type": "code",
      "source": [
        "base_sin.studytime.value_counts()"
      ],
      "metadata": {
        "id": "GTABPObECLlK",
        "outputId": "fe6027d8-60ad-403b-f8f8-ded6a01a756b",
        "colab": {
          "base_uri": "https://localhost:8080/"
        }
      },
      "execution_count": 203,
      "outputs": [
        {
          "output_type": "execute_result",
          "data": {
            "text/plain": [
              "2    301\n",
              "1    208\n",
              "3     92\n",
              "4     35\n",
              "Name: studytime, dtype: int64"
            ]
          },
          "metadata": {},
          "execution_count": 203
        }
      ]
    },
    {
      "cell_type": "code",
      "source": [
        "base_sin.traveltime.value_counts()"
      ],
      "metadata": {
        "colab": {
          "base_uri": "https://localhost:8080/"
        },
        "id": "6grjkuVHCEr6",
        "outputId": "892281fd-b7d8-4eb7-ae1e-58d99cefe5b6"
      },
      "execution_count": 204,
      "outputs": [
        {
          "output_type": "execute_result",
          "data": {
            "text/plain": [
              "1    358\n",
              "2    208\n",
              "3     54\n",
              "4     16\n",
              "Name: traveltime, dtype: int64"
            ]
          },
          "metadata": {},
          "execution_count": 204
        }
      ]
    },
    {
      "cell_type": "code",
      "source": [
        "base_sin.guardian.value_counts()"
      ],
      "metadata": {
        "colab": {
          "base_uri": "https://localhost:8080/"
        },
        "id": "exxTzukJCALS",
        "outputId": "67a5e56b-8b2b-4670-d115-7dde43761b80"
      },
      "execution_count": 205,
      "outputs": [
        {
          "output_type": "execute_result",
          "data": {
            "text/plain": [
              "mother    447\n",
              "father    150\n",
              "other      39\n",
              "Name: guardian, dtype: int64"
            ]
          },
          "metadata": {},
          "execution_count": 205
        }
      ]
    },
    {
      "cell_type": "code",
      "source": [
        "base_sin.reason.value_counts()"
      ],
      "metadata": {
        "colab": {
          "base_uri": "https://localhost:8080/"
        },
        "id": "rEBYyhNUB7Lt",
        "outputId": "eddb1f27-a562-409b-93b1-d96b5ab229a6"
      },
      "execution_count": 206,
      "outputs": [
        {
          "output_type": "execute_result",
          "data": {
            "text/plain": [
              "course        277\n",
              "home          146\n",
              "reputation    142\n",
              "other          71\n",
              "Name: reason, dtype: int64"
            ]
          },
          "metadata": {},
          "execution_count": 206
        }
      ]
    },
    {
      "cell_type": "code",
      "source": [
        "base_sin.Fjob.value_counts()"
      ],
      "metadata": {
        "colab": {
          "base_uri": "https://localhost:8080/"
        },
        "id": "6K-OH9xYBqGb",
        "outputId": "0c37f45f-4f6d-4cfa-d560-13d4e86fcee1"
      },
      "execution_count": 207,
      "outputs": [
        {
          "output_type": "execute_result",
          "data": {
            "text/plain": [
              "other       361\n",
              "services    177\n",
              "at_home      40\n",
              "teacher      35\n",
              "health       23\n",
              "Name: Fjob, dtype: int64"
            ]
          },
          "metadata": {},
          "execution_count": 207
        }
      ]
    },
    {
      "cell_type": "code",
      "source": [
        "base_sin.Mjob.value_counts()"
      ],
      "metadata": {
        "colab": {
          "base_uri": "https://localhost:8080/"
        },
        "id": "letc7Q2wBgh0",
        "outputId": "4af988ea-413d-4312-f119-3f8a41f9dc5b"
      },
      "execution_count": 208,
      "outputs": [
        {
          "output_type": "execute_result",
          "data": {
            "text/plain": [
              "other       252\n",
              "services    133\n",
              "at_home     131\n",
              "teacher      72\n",
              "health       48\n",
              "Name: Mjob, dtype: int64"
            ]
          },
          "metadata": {},
          "execution_count": 208
        }
      ]
    },
    {
      "cell_type": "code",
      "source": [
        "base_sin.Fedu.value_counts()"
      ],
      "metadata": {
        "colab": {
          "base_uri": "https://localhost:8080/"
        },
        "id": "t1xHxZmPBauE",
        "outputId": "bd0c3110-6c28-45f8-f50d-38b5c4c20112"
      },
      "execution_count": 209,
      "outputs": [
        {
          "output_type": "execute_result",
          "data": {
            "text/plain": [
              "2    208\n",
              "1    171\n",
              "4    126\n",
              "3    124\n",
              "0      7\n",
              "Name: Fedu, dtype: int64"
            ]
          },
          "metadata": {},
          "execution_count": 209
        }
      ]
    },
    {
      "cell_type": "code",
      "source": [
        "base_sin.Medu.value_counts()"
      ],
      "metadata": {
        "colab": {
          "base_uri": "https://localhost:8080/"
        },
        "id": "HioW84qjBU9n",
        "outputId": "5f52530e-da60-412a-d83d-2e7f7f3fbafd"
      },
      "execution_count": 210,
      "outputs": [
        {
          "output_type": "execute_result",
          "data": {
            "text/plain": [
              "2    180\n",
              "4    171\n",
              "1    141\n",
              "3    138\n",
              "0      6\n",
              "Name: Medu, dtype: int64"
            ]
          },
          "metadata": {},
          "execution_count": 210
        }
      ]
    },
    {
      "cell_type": "code",
      "source": [
        "base_sin.Pstatus.value_counts()"
      ],
      "metadata": {
        "colab": {
          "base_uri": "https://localhost:8080/"
        },
        "id": "hYIeDQhyAu9M",
        "outputId": "523b4a82-af70-4861-fabf-a5458fd15e7f"
      },
      "execution_count": 211,
      "outputs": [
        {
          "output_type": "execute_result",
          "data": {
            "text/plain": [
              "T    558\n",
              "A     77\n",
              "B      1\n",
              "Name: Pstatus, dtype: int64"
            ]
          },
          "metadata": {},
          "execution_count": 211
        }
      ]
    },
    {
      "cell_type": "code",
      "source": [
        "base_sin.famsize.value_counts()"
      ],
      "metadata": {
        "colab": {
          "base_uri": "https://localhost:8080/"
        },
        "id": "kDebaUFvAqJY",
        "outputId": "60fa596f-6835-4887-98b8-73dd2e259b8e"
      },
      "execution_count": 212,
      "outputs": [
        {
          "output_type": "execute_result",
          "data": {
            "text/plain": [
              "GT3    445\n",
              "LE3    191\n",
              "Name: famsize, dtype: int64"
            ]
          },
          "metadata": {},
          "execution_count": 212
        }
      ]
    },
    {
      "cell_type": "code",
      "source": [
        "base_sin.address.value_counts()"
      ],
      "metadata": {
        "colab": {
          "base_uri": "https://localhost:8080/"
        },
        "id": "d_Cm46biAkyR",
        "outputId": "98b3eb96-6c31-47bb-c3f0-87ce627e892b"
      },
      "execution_count": 213,
      "outputs": [
        {
          "output_type": "execute_result",
          "data": {
            "text/plain": [
              "U    440\n",
              "R    196\n",
              "Name: address, dtype: int64"
            ]
          },
          "metadata": {},
          "execution_count": 213
        }
      ]
    },
    {
      "cell_type": "code",
      "source": [
        "base_sin.sex.value_counts()"
      ],
      "metadata": {
        "colab": {
          "base_uri": "https://localhost:8080/"
        },
        "id": "Mr_8GYx0Aflh",
        "outputId": "caf6dc9c-88ed-42a8-906d-0bb680fff273"
      },
      "execution_count": 214,
      "outputs": [
        {
          "output_type": "execute_result",
          "data": {
            "text/plain": [
              "F    375\n",
              "M    261\n",
              "Name: sex, dtype: int64"
            ]
          },
          "metadata": {},
          "execution_count": 214
        }
      ]
    },
    {
      "cell_type": "code",
      "source": [
        "base_sin.schoolsup.value_counts()"
      ],
      "metadata": {
        "colab": {
          "base_uri": "https://localhost:8080/"
        },
        "id": "qK_us8A0EcNe",
        "outputId": "46065ce2-6d01-4490-eebe-43a4a30891bc"
      },
      "execution_count": 215,
      "outputs": [
        {
          "output_type": "execute_result",
          "data": {
            "text/plain": [
              "no     570\n",
              "yes     64\n",
              "Yes      1\n",
              "No       1\n",
              "Name: schoolsup, dtype: int64"
            ]
          },
          "metadata": {},
          "execution_count": 215
        }
      ]
    },
    {
      "cell_type": "code",
      "source": [
        "base_sin.school.value_counts()"
      ],
      "metadata": {
        "id": "OBkTxHQUEcse",
        "colab": {
          "base_uri": "https://localhost:8080/"
        },
        "outputId": "87714b43-d563-4bf0-c23c-d7223caf65ba"
      },
      "execution_count": 216,
      "outputs": [
        {
          "output_type": "execute_result",
          "data": {
            "text/plain": [
              "GP    413\n",
              "MS    223\n",
              "Name: school, dtype: int64"
            ]
          },
          "metadata": {},
          "execution_count": 216
        }
      ]
    },
    {
      "cell_type": "code",
      "source": [
        "base_sin.loc[:,'schoolsup']=base_sin.loc[:,'schoolsup'].map(lambda x: 'yes' if x == 'Yes' else x)\n",
        "base_sin.loc[:,'schoolsup']=base_sin.loc[:,'schoolsup'].map(lambda x: 'no' if x == 'No' else x)\n",
        "base_sin.loc[:,'paid']=base_sin.loc[:,'paid'].map(lambda x: 'no' if x == 'No' else x)\n",
        "base_sin.loc[:,'activities']=base_sin.loc[:,'activities'].map(lambda x: 'yes' if x == 'Yes' else x)\n",
        "base_sin.loc[:,'activities']=base_sin.loc[:,'activities'].map(lambda x: 'no' if x == 'No' else x)\n",
        "base_sin.loc[:,'nursery']=base_sin.loc[:,'nursery'].map(lambda x: 'no' if x == 'No' else x)\n",
        "base_sin.loc[:,'internet']=base_sin.loc[:,'internet'].map(lambda x: 'yes' if x == 'Yes' else x)\n",
        "base_sin.loc[:,'romantic']=base_sin.loc[:,'romantic'].map(lambda x: 'no' if x == 'No' else x)\n",
        "base_sin=base_sin.query('Pstatus != \\'B\\'')"
      ],
      "metadata": {
        "id": "GRM6-H4UEHGX",
        "colab": {
          "base_uri": "https://localhost:8080/"
        },
        "outputId": "1d321322-82a6-43cc-f659-daadffd3a554"
      },
      "execution_count": 217,
      "outputs": [
        {
          "output_type": "stream",
          "name": "stderr",
          "text": [
            "/usr/local/lib/python3.7/dist-packages/pandas/core/indexing.py:1773: SettingWithCopyWarning: \n",
            "A value is trying to be set on a copy of a slice from a DataFrame.\n",
            "Try using .loc[row_indexer,col_indexer] = value instead\n",
            "\n",
            "See the caveats in the documentation: https://pandas.pydata.org/pandas-docs/stable/user_guide/indexing.html#returning-a-view-versus-a-copy\n",
            "  self._setitem_single_column(ilocs[0], value, pi)\n"
          ]
        }
      ]
    },
    {
      "cell_type": "markdown",
      "source": [
        "Las variables:\n",
        "- schoolsup\n",
        "- paid\n",
        "- activities\n",
        "- nursery\n",
        "- internet\n",
        "- romantinc\n",
        "\n",
        "Tienen mayusculas en las inciales de algunas observaciones, se vuelven todas una misma categoria en común.\n",
        "\n",
        "Ademas, la variable Pstatus tenia un elemento con valor \"B\", el cual no existe dentro del diccionario, por esta incongrucneic ase decide eliminar"
      ],
      "metadata": {
        "id": "uowTXCnROFRh"
      }
    },
    {
      "cell_type": "code",
      "source": [
        "base_sin[['G3','G2','G1','absences']].describe()"
      ],
      "metadata": {
        "colab": {
          "base_uri": "https://localhost:8080/",
          "height": 300
        },
        "id": "C8SzUDpM7k6d",
        "outputId": "ca13aa2d-0ddc-4c7c-a621-a0ec3eb6b9b9"
      },
      "execution_count": 218,
      "outputs": [
        {
          "output_type": "execute_result",
          "data": {
            "text/plain": [
              "               G3          G2          G1    absences\n",
              "count  635.000000  635.000000  635.000000  635.000000\n",
              "mean    11.948031   11.571654   11.420472    3.598425\n",
              "std      3.369768    2.923172    2.796667    4.509471\n",
              "min      0.000000    0.000000    0.000000    0.000000\n",
              "25%     10.000000   10.000000   10.000000    0.000000\n",
              "50%     12.000000   11.000000   11.000000    2.000000\n",
              "75%     14.000000   13.000000   13.000000    6.000000\n",
              "max     36.000000   19.000000   25.000000   32.000000"
            ],
            "text/html": [
              "\n",
              "  <div id=\"df-3b75c87f-59cf-4aac-9314-ec5fa8f033a7\">\n",
              "    <div class=\"colab-df-container\">\n",
              "      <div>\n",
              "<style scoped>\n",
              "    .dataframe tbody tr th:only-of-type {\n",
              "        vertical-align: middle;\n",
              "    }\n",
              "\n",
              "    .dataframe tbody tr th {\n",
              "        vertical-align: top;\n",
              "    }\n",
              "\n",
              "    .dataframe thead th {\n",
              "        text-align: right;\n",
              "    }\n",
              "</style>\n",
              "<table border=\"1\" class=\"dataframe\">\n",
              "  <thead>\n",
              "    <tr style=\"text-align: right;\">\n",
              "      <th></th>\n",
              "      <th>G3</th>\n",
              "      <th>G2</th>\n",
              "      <th>G1</th>\n",
              "      <th>absences</th>\n",
              "    </tr>\n",
              "  </thead>\n",
              "  <tbody>\n",
              "    <tr>\n",
              "      <th>count</th>\n",
              "      <td>635.000000</td>\n",
              "      <td>635.000000</td>\n",
              "      <td>635.000000</td>\n",
              "      <td>635.000000</td>\n",
              "    </tr>\n",
              "    <tr>\n",
              "      <th>mean</th>\n",
              "      <td>11.948031</td>\n",
              "      <td>11.571654</td>\n",
              "      <td>11.420472</td>\n",
              "      <td>3.598425</td>\n",
              "    </tr>\n",
              "    <tr>\n",
              "      <th>std</th>\n",
              "      <td>3.369768</td>\n",
              "      <td>2.923172</td>\n",
              "      <td>2.796667</td>\n",
              "      <td>4.509471</td>\n",
              "    </tr>\n",
              "    <tr>\n",
              "      <th>min</th>\n",
              "      <td>0.000000</td>\n",
              "      <td>0.000000</td>\n",
              "      <td>0.000000</td>\n",
              "      <td>0.000000</td>\n",
              "    </tr>\n",
              "    <tr>\n",
              "      <th>25%</th>\n",
              "      <td>10.000000</td>\n",
              "      <td>10.000000</td>\n",
              "      <td>10.000000</td>\n",
              "      <td>0.000000</td>\n",
              "    </tr>\n",
              "    <tr>\n",
              "      <th>50%</th>\n",
              "      <td>12.000000</td>\n",
              "      <td>11.000000</td>\n",
              "      <td>11.000000</td>\n",
              "      <td>2.000000</td>\n",
              "    </tr>\n",
              "    <tr>\n",
              "      <th>75%</th>\n",
              "      <td>14.000000</td>\n",
              "      <td>13.000000</td>\n",
              "      <td>13.000000</td>\n",
              "      <td>6.000000</td>\n",
              "    </tr>\n",
              "    <tr>\n",
              "      <th>max</th>\n",
              "      <td>36.000000</td>\n",
              "      <td>19.000000</td>\n",
              "      <td>25.000000</td>\n",
              "      <td>32.000000</td>\n",
              "    </tr>\n",
              "  </tbody>\n",
              "</table>\n",
              "</div>\n",
              "      <button class=\"colab-df-convert\" onclick=\"convertToInteractive('df-3b75c87f-59cf-4aac-9314-ec5fa8f033a7')\"\n",
              "              title=\"Convert this dataframe to an interactive table.\"\n",
              "              style=\"display:none;\">\n",
              "        \n",
              "  <svg xmlns=\"http://www.w3.org/2000/svg\" height=\"24px\"viewBox=\"0 0 24 24\"\n",
              "       width=\"24px\">\n",
              "    <path d=\"M0 0h24v24H0V0z\" fill=\"none\"/>\n",
              "    <path d=\"M18.56 5.44l.94 2.06.94-2.06 2.06-.94-2.06-.94-.94-2.06-.94 2.06-2.06.94zm-11 1L8.5 8.5l.94-2.06 2.06-.94-2.06-.94L8.5 2.5l-.94 2.06-2.06.94zm10 10l.94 2.06.94-2.06 2.06-.94-2.06-.94-.94-2.06-.94 2.06-2.06.94z\"/><path d=\"M17.41 7.96l-1.37-1.37c-.4-.4-.92-.59-1.43-.59-.52 0-1.04.2-1.43.59L10.3 9.45l-7.72 7.72c-.78.78-.78 2.05 0 2.83L4 21.41c.39.39.9.59 1.41.59.51 0 1.02-.2 1.41-.59l7.78-7.78 2.81-2.81c.8-.78.8-2.07 0-2.86zM5.41 20L4 18.59l7.72-7.72 1.47 1.35L5.41 20z\"/>\n",
              "  </svg>\n",
              "      </button>\n",
              "      \n",
              "  <style>\n",
              "    .colab-df-container {\n",
              "      display:flex;\n",
              "      flex-wrap:wrap;\n",
              "      gap: 12px;\n",
              "    }\n",
              "\n",
              "    .colab-df-convert {\n",
              "      background-color: #E8F0FE;\n",
              "      border: none;\n",
              "      border-radius: 50%;\n",
              "      cursor: pointer;\n",
              "      display: none;\n",
              "      fill: #1967D2;\n",
              "      height: 32px;\n",
              "      padding: 0 0 0 0;\n",
              "      width: 32px;\n",
              "    }\n",
              "\n",
              "    .colab-df-convert:hover {\n",
              "      background-color: #E2EBFA;\n",
              "      box-shadow: 0px 1px 2px rgba(60, 64, 67, 0.3), 0px 1px 3px 1px rgba(60, 64, 67, 0.15);\n",
              "      fill: #174EA6;\n",
              "    }\n",
              "\n",
              "    [theme=dark] .colab-df-convert {\n",
              "      background-color: #3B4455;\n",
              "      fill: #D2E3FC;\n",
              "    }\n",
              "\n",
              "    [theme=dark] .colab-df-convert:hover {\n",
              "      background-color: #434B5C;\n",
              "      box-shadow: 0px 1px 3px 1px rgba(0, 0, 0, 0.15);\n",
              "      filter: drop-shadow(0px 1px 2px rgba(0, 0, 0, 0.3));\n",
              "      fill: #FFFFFF;\n",
              "    }\n",
              "  </style>\n",
              "\n",
              "      <script>\n",
              "        const buttonEl =\n",
              "          document.querySelector('#df-3b75c87f-59cf-4aac-9314-ec5fa8f033a7 button.colab-df-convert');\n",
              "        buttonEl.style.display =\n",
              "          google.colab.kernel.accessAllowed ? 'block' : 'none';\n",
              "\n",
              "        async function convertToInteractive(key) {\n",
              "          const element = document.querySelector('#df-3b75c87f-59cf-4aac-9314-ec5fa8f033a7');\n",
              "          const dataTable =\n",
              "            await google.colab.kernel.invokeFunction('convertToInteractive',\n",
              "                                                     [key], {});\n",
              "          if (!dataTable) return;\n",
              "\n",
              "          const docLinkHtml = 'Like what you see? Visit the ' +\n",
              "            '<a target=\"_blank\" href=https://colab.research.google.com/notebooks/data_table.ipynb>data table notebook</a>'\n",
              "            + ' to learn more about interactive tables.';\n",
              "          element.innerHTML = '';\n",
              "          dataTable['output_type'] = 'display_data';\n",
              "          await google.colab.output.renderOutput(dataTable, element);\n",
              "          const docLink = document.createElement('div');\n",
              "          docLink.innerHTML = docLinkHtml;\n",
              "          element.appendChild(docLink);\n",
              "        }\n",
              "      </script>\n",
              "    </div>\n",
              "  </div>\n",
              "  "
            ]
          },
          "metadata": {},
          "execution_count": 218
        }
      ]
    },
    {
      "cell_type": "markdown",
      "source": [
        "Para las variables correspondientes a la notas de los 3 periodos, se encontro que en los periodos 1 y 3 hay valores que superan el limite de la escala de la nota (siendo que esta va desde 0 hasta 20). Ya se un error de digitación o hacerlo de esta forma para descartar a los mismos, se opta por removerlos de la base."
      ],
      "metadata": {
        "id": "doTyLNq6_poK"
      }
    },
    {
      "cell_type": "markdown",
      "source": [
        "## Duplicados"
      ],
      "metadata": {
        "id": "71RD5EYvFj1a"
      }
    },
    {
      "cell_type": "markdown",
      "source": [
        "No tiene sentido buscar duplicados dentro de la base al no existir un codigo de identificación para saber si dos individuios son los mismos, ya que pueden haber registros iguales para diferentes individuos. Con esto dicho, la base resultante fue:"
      ],
      "metadata": {
        "id": "jQ9fuEmFFlpC"
      }
    },
    {
      "cell_type": "code",
      "source": [
        "base_final= base_sin.query('G1<=20 & G3<=20')\n",
        "base_final.reset_index(drop=True)\n",
        "base_final.shape"
      ],
      "metadata": {
        "colab": {
          "base_uri": "https://localhost:8080/"
        },
        "id": "VTAomj0OFlay",
        "outputId": "14267a87-8e67-4f5c-fcb4-eb97c0ba64a6"
      },
      "execution_count": 219,
      "outputs": [
        {
          "output_type": "execute_result",
          "data": {
            "text/plain": [
              "(633, 33)"
            ]
          },
          "metadata": {},
          "execution_count": 219
        }
      ]
    },
    {
      "cell_type": "code",
      "source": [
        "base_final.head()"
      ],
      "metadata": {
        "colab": {
          "base_uri": "https://localhost:8080/",
          "height": 0
        },
        "id": "iLGLgU9DFeyj",
        "outputId": "8609ca7a-1095-48bc-fd56-7eb4a1156782"
      },
      "execution_count": 220,
      "outputs": [
        {
          "output_type": "execute_result",
          "data": {
            "text/plain": [
              "  school sex  age address famsize Pstatus  Medu  Fedu     Mjob      Fjob  \\\n",
              "0     GP   F   18       U     GT3       A     4     4  at_home   teacher   \n",
              "1     GP   F   17       U     GT3       T     1     1  at_home     other   \n",
              "2     GP   F   15       U     LE3       T     1     1  at_home     other   \n",
              "3     GP   F   15       U     GT3       T     4     2   health  services   \n",
              "4     GP   F   16       U     GT3       T     3     3    other     other   \n",
              "\n",
              "   reason guardian  traveltime  studytime  failures schoolsup famsup paid  \\\n",
              "0  course   mother           2          2         0       yes     no   no   \n",
              "1  course   father           1          2         0        no    yes   no   \n",
              "2   other   mother           1          2         0       yes     no   no   \n",
              "3    home   mother           1          3         0        no    yes   no   \n",
              "4    home   father           1          2         0        no    yes   no   \n",
              "\n",
              "  activities nursery higher internet romantic  famrel  freetime  goout  Dalc  \\\n",
              "0         no     yes    yes       no       no       4         3      4     1   \n",
              "1         no      no    yes      yes       no       5         3      3     1   \n",
              "2         no     yes    yes      yes       no       4         3      2     2   \n",
              "3        yes     yes    yes      yes      yes       3         2      2     1   \n",
              "4         no     yes    yes       no       no       4         3      2     1   \n",
              "\n",
              "   Walc  health  absences  G1  G2  G3  \n",
              "0     1       3         4   0  11  11  \n",
              "1     1       3         2   9  11  11  \n",
              "2     3       3         6  12  13  12  \n",
              "3     1       5         0  14  14  14  \n",
              "4     2       5         0  11  13  13  "
            ],
            "text/html": [
              "\n",
              "  <div id=\"df-cd38e65f-9785-429f-9b97-3b2c33d88c7f\">\n",
              "    <div class=\"colab-df-container\">\n",
              "      <div>\n",
              "<style scoped>\n",
              "    .dataframe tbody tr th:only-of-type {\n",
              "        vertical-align: middle;\n",
              "    }\n",
              "\n",
              "    .dataframe tbody tr th {\n",
              "        vertical-align: top;\n",
              "    }\n",
              "\n",
              "    .dataframe thead th {\n",
              "        text-align: right;\n",
              "    }\n",
              "</style>\n",
              "<table border=\"1\" class=\"dataframe\">\n",
              "  <thead>\n",
              "    <tr style=\"text-align: right;\">\n",
              "      <th></th>\n",
              "      <th>school</th>\n",
              "      <th>sex</th>\n",
              "      <th>age</th>\n",
              "      <th>address</th>\n",
              "      <th>famsize</th>\n",
              "      <th>Pstatus</th>\n",
              "      <th>Medu</th>\n",
              "      <th>Fedu</th>\n",
              "      <th>Mjob</th>\n",
              "      <th>Fjob</th>\n",
              "      <th>reason</th>\n",
              "      <th>guardian</th>\n",
              "      <th>traveltime</th>\n",
              "      <th>studytime</th>\n",
              "      <th>failures</th>\n",
              "      <th>schoolsup</th>\n",
              "      <th>famsup</th>\n",
              "      <th>paid</th>\n",
              "      <th>activities</th>\n",
              "      <th>nursery</th>\n",
              "      <th>higher</th>\n",
              "      <th>internet</th>\n",
              "      <th>romantic</th>\n",
              "      <th>famrel</th>\n",
              "      <th>freetime</th>\n",
              "      <th>goout</th>\n",
              "      <th>Dalc</th>\n",
              "      <th>Walc</th>\n",
              "      <th>health</th>\n",
              "      <th>absences</th>\n",
              "      <th>G1</th>\n",
              "      <th>G2</th>\n",
              "      <th>G3</th>\n",
              "    </tr>\n",
              "  </thead>\n",
              "  <tbody>\n",
              "    <tr>\n",
              "      <th>0</th>\n",
              "      <td>GP</td>\n",
              "      <td>F</td>\n",
              "      <td>18</td>\n",
              "      <td>U</td>\n",
              "      <td>GT3</td>\n",
              "      <td>A</td>\n",
              "      <td>4</td>\n",
              "      <td>4</td>\n",
              "      <td>at_home</td>\n",
              "      <td>teacher</td>\n",
              "      <td>course</td>\n",
              "      <td>mother</td>\n",
              "      <td>2</td>\n",
              "      <td>2</td>\n",
              "      <td>0</td>\n",
              "      <td>yes</td>\n",
              "      <td>no</td>\n",
              "      <td>no</td>\n",
              "      <td>no</td>\n",
              "      <td>yes</td>\n",
              "      <td>yes</td>\n",
              "      <td>no</td>\n",
              "      <td>no</td>\n",
              "      <td>4</td>\n",
              "      <td>3</td>\n",
              "      <td>4</td>\n",
              "      <td>1</td>\n",
              "      <td>1</td>\n",
              "      <td>3</td>\n",
              "      <td>4</td>\n",
              "      <td>0</td>\n",
              "      <td>11</td>\n",
              "      <td>11</td>\n",
              "    </tr>\n",
              "    <tr>\n",
              "      <th>1</th>\n",
              "      <td>GP</td>\n",
              "      <td>F</td>\n",
              "      <td>17</td>\n",
              "      <td>U</td>\n",
              "      <td>GT3</td>\n",
              "      <td>T</td>\n",
              "      <td>1</td>\n",
              "      <td>1</td>\n",
              "      <td>at_home</td>\n",
              "      <td>other</td>\n",
              "      <td>course</td>\n",
              "      <td>father</td>\n",
              "      <td>1</td>\n",
              "      <td>2</td>\n",
              "      <td>0</td>\n",
              "      <td>no</td>\n",
              "      <td>yes</td>\n",
              "      <td>no</td>\n",
              "      <td>no</td>\n",
              "      <td>no</td>\n",
              "      <td>yes</td>\n",
              "      <td>yes</td>\n",
              "      <td>no</td>\n",
              "      <td>5</td>\n",
              "      <td>3</td>\n",
              "      <td>3</td>\n",
              "      <td>1</td>\n",
              "      <td>1</td>\n",
              "      <td>3</td>\n",
              "      <td>2</td>\n",
              "      <td>9</td>\n",
              "      <td>11</td>\n",
              "      <td>11</td>\n",
              "    </tr>\n",
              "    <tr>\n",
              "      <th>2</th>\n",
              "      <td>GP</td>\n",
              "      <td>F</td>\n",
              "      <td>15</td>\n",
              "      <td>U</td>\n",
              "      <td>LE3</td>\n",
              "      <td>T</td>\n",
              "      <td>1</td>\n",
              "      <td>1</td>\n",
              "      <td>at_home</td>\n",
              "      <td>other</td>\n",
              "      <td>other</td>\n",
              "      <td>mother</td>\n",
              "      <td>1</td>\n",
              "      <td>2</td>\n",
              "      <td>0</td>\n",
              "      <td>yes</td>\n",
              "      <td>no</td>\n",
              "      <td>no</td>\n",
              "      <td>no</td>\n",
              "      <td>yes</td>\n",
              "      <td>yes</td>\n",
              "      <td>yes</td>\n",
              "      <td>no</td>\n",
              "      <td>4</td>\n",
              "      <td>3</td>\n",
              "      <td>2</td>\n",
              "      <td>2</td>\n",
              "      <td>3</td>\n",
              "      <td>3</td>\n",
              "      <td>6</td>\n",
              "      <td>12</td>\n",
              "      <td>13</td>\n",
              "      <td>12</td>\n",
              "    </tr>\n",
              "    <tr>\n",
              "      <th>3</th>\n",
              "      <td>GP</td>\n",
              "      <td>F</td>\n",
              "      <td>15</td>\n",
              "      <td>U</td>\n",
              "      <td>GT3</td>\n",
              "      <td>T</td>\n",
              "      <td>4</td>\n",
              "      <td>2</td>\n",
              "      <td>health</td>\n",
              "      <td>services</td>\n",
              "      <td>home</td>\n",
              "      <td>mother</td>\n",
              "      <td>1</td>\n",
              "      <td>3</td>\n",
              "      <td>0</td>\n",
              "      <td>no</td>\n",
              "      <td>yes</td>\n",
              "      <td>no</td>\n",
              "      <td>yes</td>\n",
              "      <td>yes</td>\n",
              "      <td>yes</td>\n",
              "      <td>yes</td>\n",
              "      <td>yes</td>\n",
              "      <td>3</td>\n",
              "      <td>2</td>\n",
              "      <td>2</td>\n",
              "      <td>1</td>\n",
              "      <td>1</td>\n",
              "      <td>5</td>\n",
              "      <td>0</td>\n",
              "      <td>14</td>\n",
              "      <td>14</td>\n",
              "      <td>14</td>\n",
              "    </tr>\n",
              "    <tr>\n",
              "      <th>4</th>\n",
              "      <td>GP</td>\n",
              "      <td>F</td>\n",
              "      <td>16</td>\n",
              "      <td>U</td>\n",
              "      <td>GT3</td>\n",
              "      <td>T</td>\n",
              "      <td>3</td>\n",
              "      <td>3</td>\n",
              "      <td>other</td>\n",
              "      <td>other</td>\n",
              "      <td>home</td>\n",
              "      <td>father</td>\n",
              "      <td>1</td>\n",
              "      <td>2</td>\n",
              "      <td>0</td>\n",
              "      <td>no</td>\n",
              "      <td>yes</td>\n",
              "      <td>no</td>\n",
              "      <td>no</td>\n",
              "      <td>yes</td>\n",
              "      <td>yes</td>\n",
              "      <td>no</td>\n",
              "      <td>no</td>\n",
              "      <td>4</td>\n",
              "      <td>3</td>\n",
              "      <td>2</td>\n",
              "      <td>1</td>\n",
              "      <td>2</td>\n",
              "      <td>5</td>\n",
              "      <td>0</td>\n",
              "      <td>11</td>\n",
              "      <td>13</td>\n",
              "      <td>13</td>\n",
              "    </tr>\n",
              "  </tbody>\n",
              "</table>\n",
              "</div>\n",
              "      <button class=\"colab-df-convert\" onclick=\"convertToInteractive('df-cd38e65f-9785-429f-9b97-3b2c33d88c7f')\"\n",
              "              title=\"Convert this dataframe to an interactive table.\"\n",
              "              style=\"display:none;\">\n",
              "        \n",
              "  <svg xmlns=\"http://www.w3.org/2000/svg\" height=\"24px\"viewBox=\"0 0 24 24\"\n",
              "       width=\"24px\">\n",
              "    <path d=\"M0 0h24v24H0V0z\" fill=\"none\"/>\n",
              "    <path d=\"M18.56 5.44l.94 2.06.94-2.06 2.06-.94-2.06-.94-.94-2.06-.94 2.06-2.06.94zm-11 1L8.5 8.5l.94-2.06 2.06-.94-2.06-.94L8.5 2.5l-.94 2.06-2.06.94zm10 10l.94 2.06.94-2.06 2.06-.94-2.06-.94-.94-2.06-.94 2.06-2.06.94z\"/><path d=\"M17.41 7.96l-1.37-1.37c-.4-.4-.92-.59-1.43-.59-.52 0-1.04.2-1.43.59L10.3 9.45l-7.72 7.72c-.78.78-.78 2.05 0 2.83L4 21.41c.39.39.9.59 1.41.59.51 0 1.02-.2 1.41-.59l7.78-7.78 2.81-2.81c.8-.78.8-2.07 0-2.86zM5.41 20L4 18.59l7.72-7.72 1.47 1.35L5.41 20z\"/>\n",
              "  </svg>\n",
              "      </button>\n",
              "      \n",
              "  <style>\n",
              "    .colab-df-container {\n",
              "      display:flex;\n",
              "      flex-wrap:wrap;\n",
              "      gap: 12px;\n",
              "    }\n",
              "\n",
              "    .colab-df-convert {\n",
              "      background-color: #E8F0FE;\n",
              "      border: none;\n",
              "      border-radius: 50%;\n",
              "      cursor: pointer;\n",
              "      display: none;\n",
              "      fill: #1967D2;\n",
              "      height: 32px;\n",
              "      padding: 0 0 0 0;\n",
              "      width: 32px;\n",
              "    }\n",
              "\n",
              "    .colab-df-convert:hover {\n",
              "      background-color: #E2EBFA;\n",
              "      box-shadow: 0px 1px 2px rgba(60, 64, 67, 0.3), 0px 1px 3px 1px rgba(60, 64, 67, 0.15);\n",
              "      fill: #174EA6;\n",
              "    }\n",
              "\n",
              "    [theme=dark] .colab-df-convert {\n",
              "      background-color: #3B4455;\n",
              "      fill: #D2E3FC;\n",
              "    }\n",
              "\n",
              "    [theme=dark] .colab-df-convert:hover {\n",
              "      background-color: #434B5C;\n",
              "      box-shadow: 0px 1px 3px 1px rgba(0, 0, 0, 0.15);\n",
              "      filter: drop-shadow(0px 1px 2px rgba(0, 0, 0, 0.3));\n",
              "      fill: #FFFFFF;\n",
              "    }\n",
              "  </style>\n",
              "\n",
              "      <script>\n",
              "        const buttonEl =\n",
              "          document.querySelector('#df-cd38e65f-9785-429f-9b97-3b2c33d88c7f button.colab-df-convert');\n",
              "        buttonEl.style.display =\n",
              "          google.colab.kernel.accessAllowed ? 'block' : 'none';\n",
              "\n",
              "        async function convertToInteractive(key) {\n",
              "          const element = document.querySelector('#df-cd38e65f-9785-429f-9b97-3b2c33d88c7f');\n",
              "          const dataTable =\n",
              "            await google.colab.kernel.invokeFunction('convertToInteractive',\n",
              "                                                     [key], {});\n",
              "          if (!dataTable) return;\n",
              "\n",
              "          const docLinkHtml = 'Like what you see? Visit the ' +\n",
              "            '<a target=\"_blank\" href=https://colab.research.google.com/notebooks/data_table.ipynb>data table notebook</a>'\n",
              "            + ' to learn more about interactive tables.';\n",
              "          element.innerHTML = '';\n",
              "          dataTable['output_type'] = 'display_data';\n",
              "          await google.colab.output.renderOutput(dataTable, element);\n",
              "          const docLink = document.createElement('div');\n",
              "          docLink.innerHTML = docLinkHtml;\n",
              "          element.appendChild(docLink);\n",
              "        }\n",
              "      </script>\n",
              "    </div>\n",
              "  </div>\n",
              "  "
            ]
          },
          "metadata": {},
          "execution_count": 220
        }
      ]
    },
    {
      "cell_type": "markdown",
      "source": [
        "## Resumen de hallazgos"
      ],
      "metadata": {
        "id": "9BD1ARaRH5yr"
      }
    },
    {
      "cell_type": "markdown",
      "source": [
        "Se encontro que la base tenia 13 valores faltanes, distribuidos entre 8 categorias. Al solo corresponder menor del 3% de la muestra, se opta por eliminarlos. Con respecto a las notas, se hayo que tanto G1 como G3 tenian un elemento fuera de sus posibles valores. Se solucionó removiendolos de la base, ya que podrian afectar la estimación del modelo al ser valores atipicos. Finalmente, no se hizo revisión de duplicados al no tener sentido por no existir una variable \"indice\" para corroborar que los registros sean unicos por usuario. Aquellas \"upper case\" encontradas en las variables categoricas se convirtieron el \"lower case\" para que todas sean iguales y se elimino el valor \"B\" en pstatus."
      ],
      "metadata": {
        "id": "1pVfZ0y7H-Lq"
      }
    },
    {
      "cell_type": "markdown",
      "source": [
        "## Analisis exploratorio"
      ],
      "metadata": {
        "id": "hwRtfOAUJVwi"
      }
    },
    {
      "cell_type": "markdown",
      "source": [
        "La base cuenta con 33 variables, siendo en su mayoria de caracter categorico, quitando la edad, numero de faltas y las notas de los 3 periodos academicos. La variable failures, correspondiente a la cantidad de materias pasadas perdidas, puede llegar a tener valores entre 0 y 4, siendo el 4 representante de la categoria \"4 o mas\", pero en este caso particular la misma no cuenta con esta"
      ],
      "metadata": {
        "id": "Xa0oXclpfla-"
      }
    },
    {
      "cell_type": "code",
      "source": [
        "base_final.failures.value_counts()"
      ],
      "metadata": {
        "colab": {
          "base_uri": "https://localhost:8080/"
        },
        "id": "lXO7dqCxgQAU",
        "outputId": "905a48df-1ecf-493e-9b71-0386fe3ec116"
      },
      "execution_count": 221,
      "outputs": [
        {
          "output_type": "execute_result",
          "data": {
            "text/plain": [
              "0    536\n",
              "1     67\n",
              "2     16\n",
              "3     14\n",
              "Name: failures, dtype: int64"
            ]
          },
          "metadata": {},
          "execution_count": 221
        }
      ]
    },
    {
      "cell_type": "markdown",
      "source": [
        "Con respecto a las variables categoricas, sus modas (valores mas frecuentes) son:"
      ],
      "metadata": {
        "id": "0n-hA1oSg4Rt"
      }
    },
    {
      "cell_type": "code",
      "source": [
        "base_final.drop(['age','absences','G1','G2','G3'],axis=1).mode()"
      ],
      "metadata": {
        "colab": {
          "base_uri": "https://localhost:8080/",
          "height": 0
        },
        "id": "LX07aKQKg-BF",
        "outputId": "f16468ff-d5b7-46da-c3d3-eb769fa6cbca"
      },
      "execution_count": 222,
      "outputs": [
        {
          "output_type": "execute_result",
          "data": {
            "text/plain": [
              "  school sex address famsize Pstatus  Medu  Fedu   Mjob   Fjob  reason  \\\n",
              "0     GP   F       U     GT3       T     2     2  other  other  course   \n",
              "\n",
              "  guardian  traveltime  studytime  failures schoolsup famsup paid activities  \\\n",
              "0   mother           1          2         0        no    yes   no         no   \n",
              "\n",
              "  nursery higher internet romantic  famrel  freetime  goout  Dalc  Walc  \\\n",
              "0     yes    yes      yes       no       4         3      3     1     1   \n",
              "\n",
              "   health  \n",
              "0       5  "
            ],
            "text/html": [
              "\n",
              "  <div id=\"df-1a0cfcc2-ce26-4cf8-a388-05043a8fbe16\">\n",
              "    <div class=\"colab-df-container\">\n",
              "      <div>\n",
              "<style scoped>\n",
              "    .dataframe tbody tr th:only-of-type {\n",
              "        vertical-align: middle;\n",
              "    }\n",
              "\n",
              "    .dataframe tbody tr th {\n",
              "        vertical-align: top;\n",
              "    }\n",
              "\n",
              "    .dataframe thead th {\n",
              "        text-align: right;\n",
              "    }\n",
              "</style>\n",
              "<table border=\"1\" class=\"dataframe\">\n",
              "  <thead>\n",
              "    <tr style=\"text-align: right;\">\n",
              "      <th></th>\n",
              "      <th>school</th>\n",
              "      <th>sex</th>\n",
              "      <th>address</th>\n",
              "      <th>famsize</th>\n",
              "      <th>Pstatus</th>\n",
              "      <th>Medu</th>\n",
              "      <th>Fedu</th>\n",
              "      <th>Mjob</th>\n",
              "      <th>Fjob</th>\n",
              "      <th>reason</th>\n",
              "      <th>guardian</th>\n",
              "      <th>traveltime</th>\n",
              "      <th>studytime</th>\n",
              "      <th>failures</th>\n",
              "      <th>schoolsup</th>\n",
              "      <th>famsup</th>\n",
              "      <th>paid</th>\n",
              "      <th>activities</th>\n",
              "      <th>nursery</th>\n",
              "      <th>higher</th>\n",
              "      <th>internet</th>\n",
              "      <th>romantic</th>\n",
              "      <th>famrel</th>\n",
              "      <th>freetime</th>\n",
              "      <th>goout</th>\n",
              "      <th>Dalc</th>\n",
              "      <th>Walc</th>\n",
              "      <th>health</th>\n",
              "    </tr>\n",
              "  </thead>\n",
              "  <tbody>\n",
              "    <tr>\n",
              "      <th>0</th>\n",
              "      <td>GP</td>\n",
              "      <td>F</td>\n",
              "      <td>U</td>\n",
              "      <td>GT3</td>\n",
              "      <td>T</td>\n",
              "      <td>2</td>\n",
              "      <td>2</td>\n",
              "      <td>other</td>\n",
              "      <td>other</td>\n",
              "      <td>course</td>\n",
              "      <td>mother</td>\n",
              "      <td>1</td>\n",
              "      <td>2</td>\n",
              "      <td>0</td>\n",
              "      <td>no</td>\n",
              "      <td>yes</td>\n",
              "      <td>no</td>\n",
              "      <td>no</td>\n",
              "      <td>yes</td>\n",
              "      <td>yes</td>\n",
              "      <td>yes</td>\n",
              "      <td>no</td>\n",
              "      <td>4</td>\n",
              "      <td>3</td>\n",
              "      <td>3</td>\n",
              "      <td>1</td>\n",
              "      <td>1</td>\n",
              "      <td>5</td>\n",
              "    </tr>\n",
              "  </tbody>\n",
              "</table>\n",
              "</div>\n",
              "      <button class=\"colab-df-convert\" onclick=\"convertToInteractive('df-1a0cfcc2-ce26-4cf8-a388-05043a8fbe16')\"\n",
              "              title=\"Convert this dataframe to an interactive table.\"\n",
              "              style=\"display:none;\">\n",
              "        \n",
              "  <svg xmlns=\"http://www.w3.org/2000/svg\" height=\"24px\"viewBox=\"0 0 24 24\"\n",
              "       width=\"24px\">\n",
              "    <path d=\"M0 0h24v24H0V0z\" fill=\"none\"/>\n",
              "    <path d=\"M18.56 5.44l.94 2.06.94-2.06 2.06-.94-2.06-.94-.94-2.06-.94 2.06-2.06.94zm-11 1L8.5 8.5l.94-2.06 2.06-.94-2.06-.94L8.5 2.5l-.94 2.06-2.06.94zm10 10l.94 2.06.94-2.06 2.06-.94-2.06-.94-.94-2.06-.94 2.06-2.06.94z\"/><path d=\"M17.41 7.96l-1.37-1.37c-.4-.4-.92-.59-1.43-.59-.52 0-1.04.2-1.43.59L10.3 9.45l-7.72 7.72c-.78.78-.78 2.05 0 2.83L4 21.41c.39.39.9.59 1.41.59.51 0 1.02-.2 1.41-.59l7.78-7.78 2.81-2.81c.8-.78.8-2.07 0-2.86zM5.41 20L4 18.59l7.72-7.72 1.47 1.35L5.41 20z\"/>\n",
              "  </svg>\n",
              "      </button>\n",
              "      \n",
              "  <style>\n",
              "    .colab-df-container {\n",
              "      display:flex;\n",
              "      flex-wrap:wrap;\n",
              "      gap: 12px;\n",
              "    }\n",
              "\n",
              "    .colab-df-convert {\n",
              "      background-color: #E8F0FE;\n",
              "      border: none;\n",
              "      border-radius: 50%;\n",
              "      cursor: pointer;\n",
              "      display: none;\n",
              "      fill: #1967D2;\n",
              "      height: 32px;\n",
              "      padding: 0 0 0 0;\n",
              "      width: 32px;\n",
              "    }\n",
              "\n",
              "    .colab-df-convert:hover {\n",
              "      background-color: #E2EBFA;\n",
              "      box-shadow: 0px 1px 2px rgba(60, 64, 67, 0.3), 0px 1px 3px 1px rgba(60, 64, 67, 0.15);\n",
              "      fill: #174EA6;\n",
              "    }\n",
              "\n",
              "    [theme=dark] .colab-df-convert {\n",
              "      background-color: #3B4455;\n",
              "      fill: #D2E3FC;\n",
              "    }\n",
              "\n",
              "    [theme=dark] .colab-df-convert:hover {\n",
              "      background-color: #434B5C;\n",
              "      box-shadow: 0px 1px 3px 1px rgba(0, 0, 0, 0.15);\n",
              "      filter: drop-shadow(0px 1px 2px rgba(0, 0, 0, 0.3));\n",
              "      fill: #FFFFFF;\n",
              "    }\n",
              "  </style>\n",
              "\n",
              "      <script>\n",
              "        const buttonEl =\n",
              "          document.querySelector('#df-1a0cfcc2-ce26-4cf8-a388-05043a8fbe16 button.colab-df-convert');\n",
              "        buttonEl.style.display =\n",
              "          google.colab.kernel.accessAllowed ? 'block' : 'none';\n",
              "\n",
              "        async function convertToInteractive(key) {\n",
              "          const element = document.querySelector('#df-1a0cfcc2-ce26-4cf8-a388-05043a8fbe16');\n",
              "          const dataTable =\n",
              "            await google.colab.kernel.invokeFunction('convertToInteractive',\n",
              "                                                     [key], {});\n",
              "          if (!dataTable) return;\n",
              "\n",
              "          const docLinkHtml = 'Like what you see? Visit the ' +\n",
              "            '<a target=\"_blank\" href=https://colab.research.google.com/notebooks/data_table.ipynb>data table notebook</a>'\n",
              "            + ' to learn more about interactive tables.';\n",
              "          element.innerHTML = '';\n",
              "          dataTable['output_type'] = 'display_data';\n",
              "          await google.colab.output.renderOutput(dataTable, element);\n",
              "          const docLink = document.createElement('div');\n",
              "          docLink.innerHTML = docLinkHtml;\n",
              "          element.appendChild(docLink);\n",
              "        }\n",
              "      </script>\n",
              "    </div>\n",
              "  </div>\n",
              "  "
            ]
          },
          "metadata": {},
          "execution_count": 222
        }
      ]
    },
    {
      "cell_type": "markdown",
      "source": [
        "Viendo como en su mayoria las personas gozan de buena salud, la muestra fue en mayor medida conformada por mujeres, las familias estan conformadas por mas de 3 personas y usan menos de 15 minutos para ir a la escuela."
      ],
      "metadata": {
        "id": "nleRFqBinchl"
      }
    },
    {
      "cell_type": "markdown",
      "source": [
        "Siendo G3 nuestro objetivo a estimar, se busca realizar un esquema de clasificación para saber si los estudiantes aprovaran en el tercer periodo, tomando como minimo aprovatorio una nota de 10."
      ],
      "metadata": {
        "id": "Z8nXl3lSWg0q"
      }
    },
    {
      "cell_type": "code",
      "source": [
        "base_final.loc[:,'G3_d']=base_final.loc[:,'G3'].map(lambda x: 1 if x >= 10 else 0)\n",
        "base_final.head()"
      ],
      "metadata": {
        "colab": {
          "base_uri": "https://localhost:8080/",
          "height": 0
        },
        "id": "nTEH5CkCXMXq",
        "outputId": "1944c2ab-9358-4eeb-c920-10c56402351f"
      },
      "execution_count": 223,
      "outputs": [
        {
          "output_type": "stream",
          "name": "stderr",
          "text": [
            "/usr/local/lib/python3.7/dist-packages/pandas/core/indexing.py:1667: SettingWithCopyWarning: \n",
            "A value is trying to be set on a copy of a slice from a DataFrame.\n",
            "Try using .loc[row_indexer,col_indexer] = value instead\n",
            "\n",
            "See the caveats in the documentation: https://pandas.pydata.org/pandas-docs/stable/user_guide/indexing.html#returning-a-view-versus-a-copy\n",
            "  self.obj[key] = value\n"
          ]
        },
        {
          "output_type": "execute_result",
          "data": {
            "text/plain": [
              "  school sex  age address famsize Pstatus  Medu  Fedu     Mjob      Fjob  \\\n",
              "0     GP   F   18       U     GT3       A     4     4  at_home   teacher   \n",
              "1     GP   F   17       U     GT3       T     1     1  at_home     other   \n",
              "2     GP   F   15       U     LE3       T     1     1  at_home     other   \n",
              "3     GP   F   15       U     GT3       T     4     2   health  services   \n",
              "4     GP   F   16       U     GT3       T     3     3    other     other   \n",
              "\n",
              "   reason guardian  traveltime  studytime  failures schoolsup famsup paid  \\\n",
              "0  course   mother           2          2         0       yes     no   no   \n",
              "1  course   father           1          2         0        no    yes   no   \n",
              "2   other   mother           1          2         0       yes     no   no   \n",
              "3    home   mother           1          3         0        no    yes   no   \n",
              "4    home   father           1          2         0        no    yes   no   \n",
              "\n",
              "  activities nursery higher internet romantic  famrel  freetime  goout  Dalc  \\\n",
              "0         no     yes    yes       no       no       4         3      4     1   \n",
              "1         no      no    yes      yes       no       5         3      3     1   \n",
              "2         no     yes    yes      yes       no       4         3      2     2   \n",
              "3        yes     yes    yes      yes      yes       3         2      2     1   \n",
              "4         no     yes    yes       no       no       4         3      2     1   \n",
              "\n",
              "   Walc  health  absences  G1  G2  G3  G3_d  \n",
              "0     1       3         4   0  11  11     1  \n",
              "1     1       3         2   9  11  11     1  \n",
              "2     3       3         6  12  13  12     1  \n",
              "3     1       5         0  14  14  14     1  \n",
              "4     2       5         0  11  13  13     1  "
            ],
            "text/html": [
              "\n",
              "  <div id=\"df-8291e718-96eb-4392-91f1-e3730e0409f7\">\n",
              "    <div class=\"colab-df-container\">\n",
              "      <div>\n",
              "<style scoped>\n",
              "    .dataframe tbody tr th:only-of-type {\n",
              "        vertical-align: middle;\n",
              "    }\n",
              "\n",
              "    .dataframe tbody tr th {\n",
              "        vertical-align: top;\n",
              "    }\n",
              "\n",
              "    .dataframe thead th {\n",
              "        text-align: right;\n",
              "    }\n",
              "</style>\n",
              "<table border=\"1\" class=\"dataframe\">\n",
              "  <thead>\n",
              "    <tr style=\"text-align: right;\">\n",
              "      <th></th>\n",
              "      <th>school</th>\n",
              "      <th>sex</th>\n",
              "      <th>age</th>\n",
              "      <th>address</th>\n",
              "      <th>famsize</th>\n",
              "      <th>Pstatus</th>\n",
              "      <th>Medu</th>\n",
              "      <th>Fedu</th>\n",
              "      <th>Mjob</th>\n",
              "      <th>Fjob</th>\n",
              "      <th>reason</th>\n",
              "      <th>guardian</th>\n",
              "      <th>traveltime</th>\n",
              "      <th>studytime</th>\n",
              "      <th>failures</th>\n",
              "      <th>schoolsup</th>\n",
              "      <th>famsup</th>\n",
              "      <th>paid</th>\n",
              "      <th>activities</th>\n",
              "      <th>nursery</th>\n",
              "      <th>higher</th>\n",
              "      <th>internet</th>\n",
              "      <th>romantic</th>\n",
              "      <th>famrel</th>\n",
              "      <th>freetime</th>\n",
              "      <th>goout</th>\n",
              "      <th>Dalc</th>\n",
              "      <th>Walc</th>\n",
              "      <th>health</th>\n",
              "      <th>absences</th>\n",
              "      <th>G1</th>\n",
              "      <th>G2</th>\n",
              "      <th>G3</th>\n",
              "      <th>G3_d</th>\n",
              "    </tr>\n",
              "  </thead>\n",
              "  <tbody>\n",
              "    <tr>\n",
              "      <th>0</th>\n",
              "      <td>GP</td>\n",
              "      <td>F</td>\n",
              "      <td>18</td>\n",
              "      <td>U</td>\n",
              "      <td>GT3</td>\n",
              "      <td>A</td>\n",
              "      <td>4</td>\n",
              "      <td>4</td>\n",
              "      <td>at_home</td>\n",
              "      <td>teacher</td>\n",
              "      <td>course</td>\n",
              "      <td>mother</td>\n",
              "      <td>2</td>\n",
              "      <td>2</td>\n",
              "      <td>0</td>\n",
              "      <td>yes</td>\n",
              "      <td>no</td>\n",
              "      <td>no</td>\n",
              "      <td>no</td>\n",
              "      <td>yes</td>\n",
              "      <td>yes</td>\n",
              "      <td>no</td>\n",
              "      <td>no</td>\n",
              "      <td>4</td>\n",
              "      <td>3</td>\n",
              "      <td>4</td>\n",
              "      <td>1</td>\n",
              "      <td>1</td>\n",
              "      <td>3</td>\n",
              "      <td>4</td>\n",
              "      <td>0</td>\n",
              "      <td>11</td>\n",
              "      <td>11</td>\n",
              "      <td>1</td>\n",
              "    </tr>\n",
              "    <tr>\n",
              "      <th>1</th>\n",
              "      <td>GP</td>\n",
              "      <td>F</td>\n",
              "      <td>17</td>\n",
              "      <td>U</td>\n",
              "      <td>GT3</td>\n",
              "      <td>T</td>\n",
              "      <td>1</td>\n",
              "      <td>1</td>\n",
              "      <td>at_home</td>\n",
              "      <td>other</td>\n",
              "      <td>course</td>\n",
              "      <td>father</td>\n",
              "      <td>1</td>\n",
              "      <td>2</td>\n",
              "      <td>0</td>\n",
              "      <td>no</td>\n",
              "      <td>yes</td>\n",
              "      <td>no</td>\n",
              "      <td>no</td>\n",
              "      <td>no</td>\n",
              "      <td>yes</td>\n",
              "      <td>yes</td>\n",
              "      <td>no</td>\n",
              "      <td>5</td>\n",
              "      <td>3</td>\n",
              "      <td>3</td>\n",
              "      <td>1</td>\n",
              "      <td>1</td>\n",
              "      <td>3</td>\n",
              "      <td>2</td>\n",
              "      <td>9</td>\n",
              "      <td>11</td>\n",
              "      <td>11</td>\n",
              "      <td>1</td>\n",
              "    </tr>\n",
              "    <tr>\n",
              "      <th>2</th>\n",
              "      <td>GP</td>\n",
              "      <td>F</td>\n",
              "      <td>15</td>\n",
              "      <td>U</td>\n",
              "      <td>LE3</td>\n",
              "      <td>T</td>\n",
              "      <td>1</td>\n",
              "      <td>1</td>\n",
              "      <td>at_home</td>\n",
              "      <td>other</td>\n",
              "      <td>other</td>\n",
              "      <td>mother</td>\n",
              "      <td>1</td>\n",
              "      <td>2</td>\n",
              "      <td>0</td>\n",
              "      <td>yes</td>\n",
              "      <td>no</td>\n",
              "      <td>no</td>\n",
              "      <td>no</td>\n",
              "      <td>yes</td>\n",
              "      <td>yes</td>\n",
              "      <td>yes</td>\n",
              "      <td>no</td>\n",
              "      <td>4</td>\n",
              "      <td>3</td>\n",
              "      <td>2</td>\n",
              "      <td>2</td>\n",
              "      <td>3</td>\n",
              "      <td>3</td>\n",
              "      <td>6</td>\n",
              "      <td>12</td>\n",
              "      <td>13</td>\n",
              "      <td>12</td>\n",
              "      <td>1</td>\n",
              "    </tr>\n",
              "    <tr>\n",
              "      <th>3</th>\n",
              "      <td>GP</td>\n",
              "      <td>F</td>\n",
              "      <td>15</td>\n",
              "      <td>U</td>\n",
              "      <td>GT3</td>\n",
              "      <td>T</td>\n",
              "      <td>4</td>\n",
              "      <td>2</td>\n",
              "      <td>health</td>\n",
              "      <td>services</td>\n",
              "      <td>home</td>\n",
              "      <td>mother</td>\n",
              "      <td>1</td>\n",
              "      <td>3</td>\n",
              "      <td>0</td>\n",
              "      <td>no</td>\n",
              "      <td>yes</td>\n",
              "      <td>no</td>\n",
              "      <td>yes</td>\n",
              "      <td>yes</td>\n",
              "      <td>yes</td>\n",
              "      <td>yes</td>\n",
              "      <td>yes</td>\n",
              "      <td>3</td>\n",
              "      <td>2</td>\n",
              "      <td>2</td>\n",
              "      <td>1</td>\n",
              "      <td>1</td>\n",
              "      <td>5</td>\n",
              "      <td>0</td>\n",
              "      <td>14</td>\n",
              "      <td>14</td>\n",
              "      <td>14</td>\n",
              "      <td>1</td>\n",
              "    </tr>\n",
              "    <tr>\n",
              "      <th>4</th>\n",
              "      <td>GP</td>\n",
              "      <td>F</td>\n",
              "      <td>16</td>\n",
              "      <td>U</td>\n",
              "      <td>GT3</td>\n",
              "      <td>T</td>\n",
              "      <td>3</td>\n",
              "      <td>3</td>\n",
              "      <td>other</td>\n",
              "      <td>other</td>\n",
              "      <td>home</td>\n",
              "      <td>father</td>\n",
              "      <td>1</td>\n",
              "      <td>2</td>\n",
              "      <td>0</td>\n",
              "      <td>no</td>\n",
              "      <td>yes</td>\n",
              "      <td>no</td>\n",
              "      <td>no</td>\n",
              "      <td>yes</td>\n",
              "      <td>yes</td>\n",
              "      <td>no</td>\n",
              "      <td>no</td>\n",
              "      <td>4</td>\n",
              "      <td>3</td>\n",
              "      <td>2</td>\n",
              "      <td>1</td>\n",
              "      <td>2</td>\n",
              "      <td>5</td>\n",
              "      <td>0</td>\n",
              "      <td>11</td>\n",
              "      <td>13</td>\n",
              "      <td>13</td>\n",
              "      <td>1</td>\n",
              "    </tr>\n",
              "  </tbody>\n",
              "</table>\n",
              "</div>\n",
              "      <button class=\"colab-df-convert\" onclick=\"convertToInteractive('df-8291e718-96eb-4392-91f1-e3730e0409f7')\"\n",
              "              title=\"Convert this dataframe to an interactive table.\"\n",
              "              style=\"display:none;\">\n",
              "        \n",
              "  <svg xmlns=\"http://www.w3.org/2000/svg\" height=\"24px\"viewBox=\"0 0 24 24\"\n",
              "       width=\"24px\">\n",
              "    <path d=\"M0 0h24v24H0V0z\" fill=\"none\"/>\n",
              "    <path d=\"M18.56 5.44l.94 2.06.94-2.06 2.06-.94-2.06-.94-.94-2.06-.94 2.06-2.06.94zm-11 1L8.5 8.5l.94-2.06 2.06-.94-2.06-.94L8.5 2.5l-.94 2.06-2.06.94zm10 10l.94 2.06.94-2.06 2.06-.94-2.06-.94-.94-2.06-.94 2.06-2.06.94z\"/><path d=\"M17.41 7.96l-1.37-1.37c-.4-.4-.92-.59-1.43-.59-.52 0-1.04.2-1.43.59L10.3 9.45l-7.72 7.72c-.78.78-.78 2.05 0 2.83L4 21.41c.39.39.9.59 1.41.59.51 0 1.02-.2 1.41-.59l7.78-7.78 2.81-2.81c.8-.78.8-2.07 0-2.86zM5.41 20L4 18.59l7.72-7.72 1.47 1.35L5.41 20z\"/>\n",
              "  </svg>\n",
              "      </button>\n",
              "      \n",
              "  <style>\n",
              "    .colab-df-container {\n",
              "      display:flex;\n",
              "      flex-wrap:wrap;\n",
              "      gap: 12px;\n",
              "    }\n",
              "\n",
              "    .colab-df-convert {\n",
              "      background-color: #E8F0FE;\n",
              "      border: none;\n",
              "      border-radius: 50%;\n",
              "      cursor: pointer;\n",
              "      display: none;\n",
              "      fill: #1967D2;\n",
              "      height: 32px;\n",
              "      padding: 0 0 0 0;\n",
              "      width: 32px;\n",
              "    }\n",
              "\n",
              "    .colab-df-convert:hover {\n",
              "      background-color: #E2EBFA;\n",
              "      box-shadow: 0px 1px 2px rgba(60, 64, 67, 0.3), 0px 1px 3px 1px rgba(60, 64, 67, 0.15);\n",
              "      fill: #174EA6;\n",
              "    }\n",
              "\n",
              "    [theme=dark] .colab-df-convert {\n",
              "      background-color: #3B4455;\n",
              "      fill: #D2E3FC;\n",
              "    }\n",
              "\n",
              "    [theme=dark] .colab-df-convert:hover {\n",
              "      background-color: #434B5C;\n",
              "      box-shadow: 0px 1px 3px 1px rgba(0, 0, 0, 0.15);\n",
              "      filter: drop-shadow(0px 1px 2px rgba(0, 0, 0, 0.3));\n",
              "      fill: #FFFFFF;\n",
              "    }\n",
              "  </style>\n",
              "\n",
              "      <script>\n",
              "        const buttonEl =\n",
              "          document.querySelector('#df-8291e718-96eb-4392-91f1-e3730e0409f7 button.colab-df-convert');\n",
              "        buttonEl.style.display =\n",
              "          google.colab.kernel.accessAllowed ? 'block' : 'none';\n",
              "\n",
              "        async function convertToInteractive(key) {\n",
              "          const element = document.querySelector('#df-8291e718-96eb-4392-91f1-e3730e0409f7');\n",
              "          const dataTable =\n",
              "            await google.colab.kernel.invokeFunction('convertToInteractive',\n",
              "                                                     [key], {});\n",
              "          if (!dataTable) return;\n",
              "\n",
              "          const docLinkHtml = 'Like what you see? Visit the ' +\n",
              "            '<a target=\"_blank\" href=https://colab.research.google.com/notebooks/data_table.ipynb>data table notebook</a>'\n",
              "            + ' to learn more about interactive tables.';\n",
              "          element.innerHTML = '';\n",
              "          dataTable['output_type'] = 'display_data';\n",
              "          await google.colab.output.renderOutput(dataTable, element);\n",
              "          const docLink = document.createElement('div');\n",
              "          docLink.innerHTML = docLinkHtml;\n",
              "          element.appendChild(docLink);\n",
              "        }\n",
              "      </script>\n",
              "    </div>\n",
              "  </div>\n",
              "  "
            ]
          },
          "metadata": {},
          "execution_count": 223
        }
      ]
    },
    {
      "cell_type": "code",
      "source": [
        "base_final.G3_d.value_counts()"
      ],
      "metadata": {
        "colab": {
          "base_uri": "https://localhost:8080/"
        },
        "id": "RWu9t_1sdl5q",
        "outputId": "4dbcb058-f608-46ba-d193-f77ddb3ea643"
      },
      "execution_count": 224,
      "outputs": [
        {
          "output_type": "execute_result",
          "data": {
            "text/plain": [
              "1    536\n",
              "0     97\n",
              "Name: G3_d, dtype: int64"
            ]
          },
          "metadata": {},
          "execution_count": 224
        }
      ]
    },
    {
      "cell_type": "code",
      "source": [
        "nombres=base_final.columns[0:-5]"
      ],
      "metadata": {
        "id": "_qYwkSnwm02h"
      },
      "execution_count": 225,
      "outputs": []
    },
    {
      "cell_type": "code",
      "source": [
        "import researchpy as rp\n",
        "nombres=base_final.columns[0:-5]\n",
        "pvalue=[]\n",
        "for col in nombres:\n",
        "  crosstab, test_results, expected = rp.crosstab(base_final['G3_d'], base_final[col],\n",
        "                                               test= \"chi-square\",\n",
        "                                               expected_freqs= True,\n",
        "                                               prop= \"cell\")\n",
        "  pvalue.append(test_results.results[1])\n",
        "unir=pd.DataFrame(pvalue,index=nombres)\n",
        "unir=unir.drop(index=['age'])\n",
        "print(unir.sort_values(0))"
      ],
      "metadata": {
        "colab": {
          "base_uri": "https://localhost:8080/"
        },
        "id": "jPYcL03IeaVi",
        "outputId": "ec96bb6e-cfbe-42ec-dc0e-f7079ef615c7"
      },
      "execution_count": 226,
      "outputs": [
        {
          "output_type": "stream",
          "name": "stdout",
          "text": [
            "                 0\n",
            "school      0.0000\n",
            "higher      0.0000\n",
            "failures    0.0000\n",
            "studytime   0.0002\n",
            "Fedu        0.0002\n",
            "reason      0.0003\n",
            "Medu        0.0007\n",
            "famrel      0.0008\n",
            "address     0.0020\n",
            "goout       0.0065\n",
            "Dalc        0.0133\n",
            "Walc        0.0302\n",
            "romantic    0.0334\n",
            "freetime    0.0369\n",
            "sex         0.0622\n",
            "internet    0.0623\n",
            "Mjob        0.0737\n",
            "guardian    0.1009\n",
            "activities  0.1511\n",
            "famsize     0.2181\n",
            "schoolsup   0.3042\n",
            "paid        0.3119\n",
            "traveltime  0.3549\n",
            "famsup      0.3932\n",
            "health      0.4500\n",
            "Fjob        0.6869\n",
            "nursery     0.9322\n",
            "Pstatus     0.9460\n"
          ]
        }
      ]
    },
    {
      "cell_type": "markdown",
      "source": [
        "Mediante la prueba de independencia Chi-cuadrado, cuya hipotesis es:\n",
        "\n",
        "$$ H_0=Independencia \\\\ H_a=Relacionada$$\n",
        "\n",
        "Con un p-valor inferior a 0.05, se encontro que las variables que tienen relación sobre si el estudiante aprovara o no el tercer periodo son:\n",
        "\n",
        "- school      \n",
        "- higher      \n",
        "- failures    \n",
        "- studytime   \n",
        "- Fedu       \n",
        "- reason     \n",
        "- Medu       \n",
        "- famrel\n",
        "- address\n",
        "- goout\n",
        "- Dalc\n",
        "- Walc\n",
        "- romantic\n",
        "- freetime\n",
        "\n",
        "Por parte de las variables numercias:"
      ],
      "metadata": {
        "id": "Y-m0CAuSlwVp"
      }
    },
    {
      "cell_type": "code",
      "source": [
        "import matplotlib.pyplot as plt\n",
        "fig, axes = plt.subplots(nrows=1, ncols=2, figsize=(10, 5))\n",
        "sns.boxplot(data=base_final, x=\"G3_d\", y=\"absences\", ax=axes[0])\n",
        "axes[0].set_title(\"Faltas\")\n",
        "sns.boxplot(data=base_final, x=\"G3_d\", y=\"age\",  ax=axes[1])\n",
        "axes[1].set_title(\"Edad\")"
      ],
      "metadata": {
        "colab": {
          "base_uri": "https://localhost:8080/",
          "height": 0
        },
        "id": "mmmkz-aKljq5",
        "outputId": "d66449b4-71fd-4121-8943-94d1a72cbb63"
      },
      "execution_count": 227,
      "outputs": [
        {
          "output_type": "execute_result",
          "data": {
            "text/plain": [
              "Text(0.5, 1.0, 'Edad')"
            ]
          },
          "metadata": {},
          "execution_count": 227
        },
        {
          "output_type": "display_data",
          "data": {
            "text/plain": [
              "<Figure size 720x360 with 2 Axes>"
            ],
            "image/png": "[encoded data removed]"
          },
          "metadata": {}
        }
      ]
    },
    {
      "cell_type": "markdown",
      "source": [
        "No se aprecia una asociación muy marcada entre las variables edad y faltas."
      ],
      "metadata": {
        "id": "HykI5Wt8tTax"
      }
    },
    {
      "cell_type": "markdown",
      "source": [
        "## Selección de variables\n"
      ],
      "metadata": {
        "id": "x5KqjWqJtbEJ"
      }
    },
    {
      "cell_type": "markdown",
      "source": [
        "Para la selección, se usaran las variables con mayor relación segundo el criterio de Crammer's V"
      ],
      "metadata": {
        "id": "H00JnLzJtfFJ"
      }
    },
    {
      "cell_type": "code",
      "source": [
        "nombres=['school','higher','failures','studytime','Fedu','reason','Medu','famrel','address','goout','Dalc','Walc','romantic','freetime']\n",
        "crammer=[]\n",
        "gl=[]\n",
        "for col in nombres:\n",
        "  crosstab, test_results, expected = rp.crosstab(base_final['G3_d'], base_final[col],\n",
        "                                               test= \"chi-square\",\n",
        "                                               expected_freqs= True,\n",
        "                                               prop= \"cell\")\n",
        "  gl.append(min(crosstab.shape[0]-2,crosstab.shape[1]-2))\n",
        "  crammer.append(test_results.results[2])\n",
        "unir={'grados': gl,'crammers v':crammer}\n",
        "unir=pd.DataFrame(unir, index=nombres)\n",
        "print(unir.sort_values(by='crammers v', ascending=False))"
      ],
      "metadata": {
        "colab": {
          "base_uri": "https://localhost:8080/"
        },
        "id": "uHwqxF61tR2y",
        "outputId": "18c76b8d-07bb-4091-b302-019bc71be827"
      },
      "execution_count": 228,
      "outputs": [
        {
          "output_type": "stream",
          "name": "stdout",
          "text": [
            "           grados  crammers v\n",
            "failures        1      0.4091\n",
            "higher          1      0.3098\n",
            "school          1      0.3031\n",
            "Fedu            1      0.1885\n",
            "studytime       1      0.1767\n",
            "Medu            1      0.1746\n",
            "famrel          1      0.1728\n",
            "reason          1      0.1714\n",
            "goout           1      0.1501\n",
            "Dalc            1      0.1412\n",
            "Walc            1      0.1300\n",
            "freetime        1      0.1271\n",
            "address         1      0.1230\n",
            "romantic        1      0.0845\n"
          ]
        }
      ]
    },
    {
      "cell_type": "markdown",
      "source": [
        "Las 5 variables que muestran un mayor grado de asociación con la nota aprobatoria del tercer periodo son:\n",
        "- failures\n",
        "- higher\n",
        "- school\n",
        "- Fedu\n",
        "- studytime"
      ],
      "metadata": {
        "id": "BlBW1tbW4AAJ"
      }
    },
    {
      "cell_type": "markdown",
      "source": [
        "# Construcción y entrenamiento del modelo"
      ],
      "metadata": {
        "id": "HbjiBsQQ56GY"
      }
    },
    {
      "cell_type": "markdown",
      "source": [
        "Creación de un nuevo dataset con variables dummy. A pesar de ser mencionado ue existe la posibilidad de tener un valor de 4, la variable failures en el dataset solo tiene hasta 3, por lo que su partición sera unicamente en 3 variables"
      ],
      "metadata": {
        "id": "ERnVmxmAB9ve"
      }
    },
    {
      "cell_type": "code",
      "source": [
        "base_final.failures.value_counts()"
      ],
      "metadata": {
        "colab": {
          "base_uri": "https://localhost:8080/"
        },
        "id": "CIW73VVZTpRO",
        "outputId": "2a1dfd99-958c-4442-8d01-a8f0cdb8b55d"
      },
      "execution_count": 229,
      "outputs": [
        {
          "output_type": "execute_result",
          "data": {
            "text/plain": [
              "0    536\n",
              "1     67\n",
              "2     16\n",
              "3     14\n",
              "Name: failures, dtype: int64"
            ]
          },
          "metadata": {},
          "execution_count": 229
        }
      ]
    },
    {
      "cell_type": "markdown",
      "source": [
        "Procedimiento a mano (me entere tarde que habia una función)"
      ],
      "metadata": {
        "id": "q2pOX0V5RQez"
      }
    },
    {
      "cell_type": "code",
      "source": [
        "modelo=base_final.loc[:,['G3_d','failures','higher','school','Fedu','studytime']]\n",
        "modelo.loc[:,'failures_1']=base_final.loc[:,'failures'].map(lambda x: 1 if x == 1 else 0)\n",
        "modelo.loc[:,'failures_2']=base_final.loc[:,'failures'].map(lambda x: 1 if x == 2 else 0)\n",
        "modelo.loc[:,'failures_3']=base_final.loc[:,'failures'].map(lambda x: 1 if x == 3 else 0)\n",
        "modelo.loc[:,'higher_yes']=base_final.loc[:,'higher'].map(lambda x: 1 if x == 'yes' else 0)\n",
        "modelo.loc[:,'school_gp']=base_final.loc[:,'school'].map(lambda x: 1 if x == 'GP' else 0)\n",
        "modelo.loc[:,'fedu_1']=base_final.loc[:,'Fedu'].map(lambda x: 1 if x == 1 else 0)\n",
        "modelo.loc[:,'fedu_2']=base_final.loc[:,'Fedu'].map(lambda x: 1 if x == 2 else 0)\n",
        "modelo.loc[:,'fedu_3']=base_final.loc[:,'Fedu'].map(lambda x: 1 if x == 3 else 0)\n",
        "modelo.loc[:,'fedu_4']=base_final.loc[:,'Fedu'].map(lambda x: 1 if x == 4 else 0)\n",
        "modelo.loc[:,'studytime_2']=base_final.loc[:,'studytime'].map(lambda x: 1 if x == 2 else 0)\n",
        "modelo.loc[:,'studytime_3']=base_final.loc[:,'studytime'].map(lambda x: 1 if x == 3 else 0)\n",
        "modelo.loc[:,'studytime_4']=base_final.loc[:,'studytime'].map(lambda x: 1 if x == 4 else 0)\n",
        "modelo=modelo.drop(['failures','higher','school','Fedu','studytime'],axis=1)\n",
        "modelo.head()"
      ],
      "metadata": {
        "colab": {
          "base_uri": "https://localhost:8080/",
          "height": 206
        },
        "id": "06uFegk1598s",
        "outputId": "160ca161-ba52-44b7-daf4-e8212d980c59"
      },
      "execution_count": 230,
      "outputs": [
        {
          "output_type": "execute_result",
          "data": {
            "text/plain": [
              "   G3_d  failures_1  failures_2  failures_3  higher_yes  school_gp  fedu_1  \\\n",
              "0     1           0           0           0           1          1       0   \n",
              "1     1           0           0           0           1          1       1   \n",
              "2     1           0           0           0           1          1       1   \n",
              "3     1           0           0           0           1          1       0   \n",
              "4     1           0           0           0           1          1       0   \n",
              "\n",
              "   fedu_2  fedu_3  fedu_4  studytime_2  studytime_3  studytime_4  \n",
              "0       0       0       1            1            0            0  \n",
              "1       0       0       0            1            0            0  \n",
              "2       0       0       0            1            0            0  \n",
              "3       1       0       0            0            1            0  \n",
              "4       0       1       0            1            0            0  "
            ],
            "text/html": [
              "\n",
              "  <div id=\"df-d1c222f0-af20-4b25-88ee-fa4c6c29780a\">\n",
              "    <div class=\"colab-df-container\">\n",
              "      <div>\n",
              "<style scoped>\n",
              "    .dataframe tbody tr th:only-of-type {\n",
              "        vertical-align: middle;\n",
              "    }\n",
              "\n",
              "    .dataframe tbody tr th {\n",
              "        vertical-align: top;\n",
              "    }\n",
              "\n",
              "    .dataframe thead th {\n",
              "        text-align: right;\n",
              "    }\n",
              "</style>\n",
              "<table border=\"1\" class=\"dataframe\">\n",
              "  <thead>\n",
              "    <tr style=\"text-align: right;\">\n",
              "      <th></th>\n",
              "      <th>G3_d</th>\n",
              "      <th>failures_1</th>\n",
              "      <th>failures_2</th>\n",
              "      <th>failures_3</th>\n",
              "      <th>higher_yes</th>\n",
              "      <th>school_gp</th>\n",
              "      <th>fedu_1</th>\n",
              "      <th>fedu_2</th>\n",
              "      <th>fedu_3</th>\n",
              "      <th>fedu_4</th>\n",
              "      <th>studytime_2</th>\n",
              "      <th>studytime_3</th>\n",
              "      <th>studytime_4</th>\n",
              "    </tr>\n",
              "  </thead>\n",
              "  <tbody>\n",
              "    <tr>\n",
              "      <th>0</th>\n",
              "      <td>1</td>\n",
              "      <td>0</td>\n",
              "      <td>0</td>\n",
              "      <td>0</td>\n",
              "      <td>1</td>\n",
              "      <td>1</td>\n",
              "      <td>0</td>\n",
              "      <td>0</td>\n",
              "      <td>0</td>\n",
              "      <td>1</td>\n",
              "      <td>1</td>\n",
              "      <td>0</td>\n",
              "      <td>0</td>\n",
              "    </tr>\n",
              "    <tr>\n",
              "      <th>1</th>\n",
              "      <td>1</td>\n",
              "      <td>0</td>\n",
              "      <td>0</td>\n",
              "      <td>0</td>\n",
              "      <td>1</td>\n",
              "      <td>1</td>\n",
              "      <td>1</td>\n",
              "      <td>0</td>\n",
              "      <td>0</td>\n",
              "      <td>0</td>\n",
              "      <td>1</td>\n",
              "      <td>0</td>\n",
              "      <td>0</td>\n",
              "    </tr>\n",
              "    <tr>\n",
              "      <th>2</th>\n",
              "      <td>1</td>\n",
              "      <td>0</td>\n",
              "      <td>0</td>\n",
              "      <td>0</td>\n",
              "      <td>1</td>\n",
              "      <td>1</td>\n",
              "      <td>1</td>\n",
              "      <td>0</td>\n",
              "      <td>0</td>\n",
              "      <td>0</td>\n",
              "      <td>1</td>\n",
              "      <td>0</td>\n",
              "      <td>0</td>\n",
              "    </tr>\n",
              "    <tr>\n",
              "      <th>3</th>\n",
              "      <td>1</td>\n",
              "      <td>0</td>\n",
              "      <td>0</td>\n",
              "      <td>0</td>\n",
              "      <td>1</td>\n",
              "      <td>1</td>\n",
              "      <td>0</td>\n",
              "      <td>1</td>\n",
              "      <td>0</td>\n",
              "      <td>0</td>\n",
              "      <td>0</td>\n",
              "      <td>1</td>\n",
              "      <td>0</td>\n",
              "    </tr>\n",
              "    <tr>\n",
              "      <th>4</th>\n",
              "      <td>1</td>\n",
              "      <td>0</td>\n",
              "      <td>0</td>\n",
              "      <td>0</td>\n",
              "      <td>1</td>\n",
              "      <td>1</td>\n",
              "      <td>0</td>\n",
              "      <td>0</td>\n",
              "      <td>1</td>\n",
              "      <td>0</td>\n",
              "      <td>1</td>\n",
              "      <td>0</td>\n",
              "      <td>0</td>\n",
              "    </tr>\n",
              "  </tbody>\n",
              "</table>\n",
              "</div>\n",
              "      <button class=\"colab-df-convert\" onclick=\"convertToInteractive('df-d1c222f0-af20-4b25-88ee-fa4c6c29780a')\"\n",
              "              title=\"Convert this dataframe to an interactive table.\"\n",
              "              style=\"display:none;\">\n",
              "        \n",
              "  <svg xmlns=\"http://www.w3.org/2000/svg\" height=\"24px\"viewBox=\"0 0 24 24\"\n",
              "       width=\"24px\">\n",
              "    <path d=\"M0 0h24v24H0V0z\" fill=\"none\"/>\n",
              "    <path d=\"M18.56 5.44l.94 2.06.94-2.06 2.06-.94-2.06-.94-.94-2.06-.94 2.06-2.06.94zm-11 1L8.5 8.5l.94-2.06 2.06-.94-2.06-.94L8.5 2.5l-.94 2.06-2.06.94zm10 10l.94 2.06.94-2.06 2.06-.94-2.06-.94-.94-2.06-.94 2.06-2.06.94z\"/><path d=\"M17.41 7.96l-1.37-1.37c-.4-.4-.92-.59-1.43-.59-.52 0-1.04.2-1.43.59L10.3 9.45l-7.72 7.72c-.78.78-.78 2.05 0 2.83L4 21.41c.39.39.9.59 1.41.59.51 0 1.02-.2 1.41-.59l7.78-7.78 2.81-2.81c.8-.78.8-2.07 0-2.86zM5.41 20L4 18.59l7.72-7.72 1.47 1.35L5.41 20z\"/>\n",
              "  </svg>\n",
              "      </button>\n",
              "      \n",
              "  <style>\n",
              "    .colab-df-container {\n",
              "      display:flex;\n",
              "      flex-wrap:wrap;\n",
              "      gap: 12px;\n",
              "    }\n",
              "\n",
              "    .colab-df-convert {\n",
              "      background-color: #E8F0FE;\n",
              "      border: none;\n",
              "      border-radius: 50%;\n",
              "      cursor: pointer;\n",
              "      display: none;\n",
              "      fill: #1967D2;\n",
              "      height: 32px;\n",
              "      padding: 0 0 0 0;\n",
              "      width: 32px;\n",
              "    }\n",
              "\n",
              "    .colab-df-convert:hover {\n",
              "      background-color: #E2EBFA;\n",
              "      box-shadow: 0px 1px 2px rgba(60, 64, 67, 0.3), 0px 1px 3px 1px rgba(60, 64, 67, 0.15);\n",
              "      fill: #174EA6;\n",
              "    }\n",
              "\n",
              "    [theme=dark] .colab-df-convert {\n",
              "      background-color: #3B4455;\n",
              "      fill: #D2E3FC;\n",
              "    }\n",
              "\n",
              "    [theme=dark] .colab-df-convert:hover {\n",
              "      background-color: #434B5C;\n",
              "      box-shadow: 0px 1px 3px 1px rgba(0, 0, 0, 0.15);\n",
              "      filter: drop-shadow(0px 1px 2px rgba(0, 0, 0, 0.3));\n",
              "      fill: #FFFFFF;\n",
              "    }\n",
              "  </style>\n",
              "\n",
              "      <script>\n",
              "        const buttonEl =\n",
              "          document.querySelector('#df-d1c222f0-af20-4b25-88ee-fa4c6c29780a button.colab-df-convert');\n",
              "        buttonEl.style.display =\n",
              "          google.colab.kernel.accessAllowed ? 'block' : 'none';\n",
              "\n",
              "        async function convertToInteractive(key) {\n",
              "          const element = document.querySelector('#df-d1c222f0-af20-4b25-88ee-fa4c6c29780a');\n",
              "          const dataTable =\n",
              "            await google.colab.kernel.invokeFunction('convertToInteractive',\n",
              "                                                     [key], {});\n",
              "          if (!dataTable) return;\n",
              "\n",
              "          const docLinkHtml = 'Like what you see? Visit the ' +\n",
              "            '<a target=\"_blank\" href=https://colab.research.google.com/notebooks/data_table.ipynb>data table notebook</a>'\n",
              "            + ' to learn more about interactive tables.';\n",
              "          element.innerHTML = '';\n",
              "          dataTable['output_type'] = 'display_data';\n",
              "          await google.colab.output.renderOutput(dataTable, element);\n",
              "          const docLink = document.createElement('div');\n",
              "          docLink.innerHTML = docLinkHtml;\n",
              "          element.appendChild(docLink);\n",
              "        }\n",
              "      </script>\n",
              "    </div>\n",
              "  </div>\n",
              "  "
            ]
          },
          "metadata": {},
          "execution_count": 230
        }
      ]
    },
    {
      "cell_type": "markdown",
      "source": [
        "## Dataset completo"
      ],
      "metadata": {
        "id": "oU7pF1hOF0W_"
      }
    },
    {
      "cell_type": "markdown",
      "source": [
        "El rango de valores que tomara C en la regresión es:"
      ],
      "metadata": {
        "id": "JQiFPmU4NsMm"
      }
    },
    {
      "cell_type": "code",
      "source": [
        "from sklearn import metrics\n",
        "c_range = 10.**np.arange(-2, 1)\n",
        "c_range\n",
        "X= modelo.drop('G3_d',axis=1)\n",
        "y= modelo['G3_d']"
      ],
      "metadata": {
        "id": "2EmDVtLnNshl"
      },
      "execution_count": 231,
      "outputs": []
    },
    {
      "cell_type": "markdown",
      "source": [
        "### Ridge"
      ],
      "metadata": {
        "id": "EArvy7FXJshO"
      }
    },
    {
      "cell_type": "code",
      "source": [
        "from sklearn.linear_model import LogisticRegression\n",
        "ridge_pred_loss=[]\n",
        "solvers=['newton-cg','liblinear','sag']\n",
        "j=0\n",
        "for i in c_range:\n",
        "  logreg = LogisticRegression(C=i, penalty='l2',solver=solvers[j],multi_class='auto')\n",
        "  logreg.fit(X, y)\n",
        "  y_pred=logreg.predict_proba(X)\n",
        "  ridge_pred_loss.append(metrics.log_loss(y, y_pred))\n",
        "  j=j+1\n",
        "\n",
        "ridge_pred_pre=[]\n",
        "solvers=['newton-cg','liblinear','sag']\n",
        "j=0\n",
        "for i in c_range:\n",
        "  logreg = LogisticRegression(C=i, penalty='l2',solver=solvers[j],multi_class='auto')\n",
        "  logreg.fit(X, y)\n",
        "  y_pred=logreg.predict(X)\n",
        "  ridge_pred_pre.append(metrics.precision_score(y, y_pred))\n",
        "  j=j+1\n",
        "\n",
        "print(ridge_pred_pre,ridge_pred_loss)"
      ],
      "metadata": {
        "id": "beLZqwKOEAsP",
        "colab": {
          "base_uri": "https://localhost:8080/"
        },
        "outputId": "94336462-a3cc-40c7-8cc3-570bdf69485e"
      },
      "execution_count": 232,
      "outputs": [
        {
          "output_type": "stream",
          "name": "stdout",
          "text": [
            "[0.8467614533965245, 0.8562197092084006, 0.8904109589041096] [0.3973843711504436, 0.33590975356993164, 0.3117496818212176]\n"
          ]
        }
      ]
    },
    {
      "cell_type": "markdown",
      "source": [
        "### Lasso"
      ],
      "metadata": {
        "id": "YzqI5QTWS8Js"
      }
    },
    {
      "cell_type": "code",
      "source": [
        "from sklearn.linear_model import LogisticRegression\n",
        "lasso_pred_loss=[]\n",
        "solvers=['liblinear','saga','liblinear']\n",
        "j=0\n",
        "for i in c_range:\n",
        "  logreg = LogisticRegression(C=i, penalty='l1',solver=solvers[j],multi_class='auto')\n",
        "  logreg.fit(X, y)\n",
        "  y_pred=logreg.predict_proba(X)\n",
        "  lasso_pred_loss.append(metrics.log_loss(y, y_pred))\n",
        "  j=j+1\n",
        "\n",
        "lasso_pred_pre=[]\n",
        "solvers=['liblinear','saga','liblinear']\n",
        "j=0\n",
        "for i in c_range:\n",
        "  logreg = LogisticRegression(C=i, penalty='l1',solver=solvers[j],multi_class='auto')\n",
        "  logreg.fit(X, y)\n",
        "  y_pred=logreg.predict(X)\n",
        "  lasso_pred_pre.append(metrics.precision_score(y, y_pred))\n",
        "  j=j+1\n",
        "\n",
        "print(lasso_pred_pre,lasso_pred_loss)"
      ],
      "metadata": {
        "colab": {
          "base_uri": "https://localhost:8080/"
        },
        "outputId": "c323ce17-16c1-49a3-eaf6-09b6507d266b",
        "id": "42-hfUY7S8Js"
      },
      "execution_count": 233,
      "outputs": [
        {
          "output_type": "stream",
          "name": "stdout",
          "text": [
            "[0.8467614533965245, 0.8536977491961415, 0.8911917098445595] [0.4725958353469287, 0.353374028649777, 0.31170331041361043]\n"
          ]
        }
      ]
    },
    {
      "cell_type": "markdown",
      "source": [
        "## partición 80/20"
      ],
      "metadata": {
        "id": "hWbdJyftF4MO"
      }
    },
    {
      "cell_type": "markdown",
      "source": [
        "### Ridge"
      ],
      "metadata": {
        "id": "Tesip-gcQ9mO"
      }
    },
    {
      "cell_type": "code",
      "source": [
        "from sklearn.model_selection import train_test_split\n",
        "X_train, X_test, y_train, y_test = train_test_split(X, y, random_state=69)\n",
        "\n",
        "ridge_pred_loss_80=[]\n",
        "solvers=['newton-cg','liblinear','sag']\n",
        "j=0\n",
        "for i in c_range:\n",
        "  logreg = LogisticRegression(C=i, penalty='l2',solver=solvers[j],multi_class='auto')\n",
        "  logreg.fit(X_train, y_train)\n",
        "  y_pred=logreg.predict_proba(X_test)\n",
        "  ridge_pred_loss_80.append(metrics.log_loss(y_test, y_pred))\n",
        "  j=j+1\n",
        "\n",
        "ridge_pred_pre_80=[]\n",
        "solvers=['newton-cg','liblinear','sag']\n",
        "j=0\n",
        "for i in c_range:\n",
        "  logreg = LogisticRegression(C=i, penalty='l2',solver=solvers[j],multi_class='auto')\n",
        "  logreg.fit(X_train, y_train)\n",
        "  y_pred=logreg.predict(X_test)\n",
        "  ridge_pred_pre_80.append(metrics.precision_score(y_test, y_pred))\n",
        "  j=j+1\n",
        "\n",
        "print(ridge_pred_pre_80,ridge_pred_loss_80)"
      ],
      "metadata": {
        "id": "d6pTRXTpFzaW",
        "colab": {
          "base_uri": "https://localhost:8080/"
        },
        "outputId": "d9f57c87-a897-4ff5-8726-e64e4ec613a3"
      },
      "execution_count": 234,
      "outputs": [
        {
          "output_type": "stream",
          "name": "stdout",
          "text": [
            "[0.8490566037735849, 0.8490566037735849, 0.8627450980392157] [0.4058259169687813, 0.36634031227550207, 0.3583845738124801]\n"
          ]
        }
      ]
    },
    {
      "cell_type": "markdown",
      "source": [
        "### Lasso"
      ],
      "metadata": {
        "id": "OQ_-Dip6UUVI"
      }
    },
    {
      "cell_type": "code",
      "source": [
        "lasso_pred_loss_80=[]\n",
        "solvers=['liblinear','saga','liblinear']\n",
        "j=0\n",
        "for i in c_range:\n",
        "  logreg = LogisticRegression(C=i, penalty='l1',solver=solvers[j],multi_class='auto')\n",
        "  logreg.fit(X_train, y_train)\n",
        "  y_pred=logreg.predict_proba(X_test)\n",
        "  lasso_pred_loss_80.append(metrics.log_loss(y_test, y_pred))\n",
        "  j=j+1\n",
        "\n",
        "lasso_pred_pre_80=[]\n",
        "solvers=['liblinear','saga','liblinear']\n",
        "j=0\n",
        "for i in c_range:\n",
        "  logreg = LogisticRegression(C=i, penalty='l1',solver=solvers[j],multi_class='auto')\n",
        "  logreg.fit(X_train, y_train)\n",
        "  y_pred=logreg.predict(X_test)\n",
        "  lasso_pred_pre_80.append(metrics.precision_score(y_test, y_pred))\n",
        "  j=j+1\n",
        "\n",
        "print(lasso_pred_pre_80,lasso_pred_loss_80)"
      ],
      "metadata": {
        "colab": {
          "base_uri": "https://localhost:8080/"
        },
        "outputId": "c496779f-77f8-4625-9d49-04281287c8c6",
        "id": "gf14JyzBUUVR"
      },
      "execution_count": 235,
      "outputs": [
        {
          "output_type": "stream",
          "name": "stdout",
          "text": [
            "[0.8490566037735849, 0.8490566037735849, 0.8609271523178808] [0.5241012699094103, 0.37495918180304827, 0.35969945503862794]\n"
          ]
        }
      ]
    },
    {
      "cell_type": "markdown",
      "source": [
        "## Tabla 80/20"
      ],
      "metadata": {
        "id": "C-dRzN0WUj1x"
      }
    },
    {
      "cell_type": "code",
      "source": [
        "tabla=np.array([ridge_pred_loss_80,\n",
        "               ridge_pred_pre_80,\n",
        "               lasso_pred_loss_80,\n",
        "               lasso_pred_pre_80])\n",
        "frame=pd.DataFrame(tabla.T, index=c_range,columns=['Log loss ridge','precisión ridge','Log loss lasso','precisión lasso'])\n",
        "frame"
      ],
      "metadata": {
        "colab": {
          "base_uri": "https://localhost:8080/",
          "height": 143
        },
        "id": "LOhsdx6oUhan",
        "outputId": "0c06fe9d-386c-4333-998a-95f54e770886"
      },
      "execution_count": 257,
      "outputs": [
        {
          "output_type": "execute_result",
          "data": {
            "text/plain": [
              "      Log loss ridge  precisión ridge  Log loss lasso  precisión lasso\n",
              "0.01        0.405826         0.849057        0.524101         0.849057\n",
              "0.10        0.366340         0.849057        0.374959         0.849057\n",
              "1.00        0.358385         0.862745        0.359699         0.860927"
            ],
            "text/html": [
              "\n",
              "  <div id=\"df-ee1b273a-818d-4516-b8d8-7e7e845691ff\">\n",
              "    <div class=\"colab-df-container\">\n",
              "      <div>\n",
              "<style scoped>\n",
              "    .dataframe tbody tr th:only-of-type {\n",
              "        vertical-align: middle;\n",
              "    }\n",
              "\n",
              "    .dataframe tbody tr th {\n",
              "        vertical-align: top;\n",
              "    }\n",
              "\n",
              "    .dataframe thead th {\n",
              "        text-align: right;\n",
              "    }\n",
              "</style>\n",
              "<table border=\"1\" class=\"dataframe\">\n",
              "  <thead>\n",
              "    <tr style=\"text-align: right;\">\n",
              "      <th></th>\n",
              "      <th>Log loss ridge</th>\n",
              "      <th>precisión ridge</th>\n",
              "      <th>Log loss lasso</th>\n",
              "      <th>precisión lasso</th>\n",
              "    </tr>\n",
              "  </thead>\n",
              "  <tbody>\n",
              "    <tr>\n",
              "      <th>0.01</th>\n",
              "      <td>0.405826</td>\n",
              "      <td>0.849057</td>\n",
              "      <td>0.524101</td>\n",
              "      <td>0.849057</td>\n",
              "    </tr>\n",
              "    <tr>\n",
              "      <th>0.10</th>\n",
              "      <td>0.366340</td>\n",
              "      <td>0.849057</td>\n",
              "      <td>0.374959</td>\n",
              "      <td>0.849057</td>\n",
              "    </tr>\n",
              "    <tr>\n",
              "      <th>1.00</th>\n",
              "      <td>0.358385</td>\n",
              "      <td>0.862745</td>\n",
              "      <td>0.359699</td>\n",
              "      <td>0.860927</td>\n",
              "    </tr>\n",
              "  </tbody>\n",
              "</table>\n",
              "</div>\n",
              "      <button class=\"colab-df-convert\" onclick=\"convertToInteractive('df-ee1b273a-818d-4516-b8d8-7e7e845691ff')\"\n",
              "              title=\"Convert this dataframe to an interactive table.\"\n",
              "              style=\"display:none;\">\n",
              "        \n",
              "  <svg xmlns=\"http://www.w3.org/2000/svg\" height=\"24px\"viewBox=\"0 0 24 24\"\n",
              "       width=\"24px\">\n",
              "    <path d=\"M0 0h24v24H0V0z\" fill=\"none\"/>\n",
              "    <path d=\"M18.56 5.44l.94 2.06.94-2.06 2.06-.94-2.06-.94-.94-2.06-.94 2.06-2.06.94zm-11 1L8.5 8.5l.94-2.06 2.06-.94-2.06-.94L8.5 2.5l-.94 2.06-2.06.94zm10 10l.94 2.06.94-2.06 2.06-.94-2.06-.94-.94-2.06-.94 2.06-2.06.94z\"/><path d=\"M17.41 7.96l-1.37-1.37c-.4-.4-.92-.59-1.43-.59-.52 0-1.04.2-1.43.59L10.3 9.45l-7.72 7.72c-.78.78-.78 2.05 0 2.83L4 21.41c.39.39.9.59 1.41.59.51 0 1.02-.2 1.41-.59l7.78-7.78 2.81-2.81c.8-.78.8-2.07 0-2.86zM5.41 20L4 18.59l7.72-7.72 1.47 1.35L5.41 20z\"/>\n",
              "  </svg>\n",
              "      </button>\n",
              "      \n",
              "  <style>\n",
              "    .colab-df-container {\n",
              "      display:flex;\n",
              "      flex-wrap:wrap;\n",
              "      gap: 12px;\n",
              "    }\n",
              "\n",
              "    .colab-df-convert {\n",
              "      background-color: #E8F0FE;\n",
              "      border: none;\n",
              "      border-radius: 50%;\n",
              "      cursor: pointer;\n",
              "      display: none;\n",
              "      fill: #1967D2;\n",
              "      height: 32px;\n",
              "      padding: 0 0 0 0;\n",
              "      width: 32px;\n",
              "    }\n",
              "\n",
              "    .colab-df-convert:hover {\n",
              "      background-color: #E2EBFA;\n",
              "      box-shadow: 0px 1px 2px rgba(60, 64, 67, 0.3), 0px 1px 3px 1px rgba(60, 64, 67, 0.15);\n",
              "      fill: #174EA6;\n",
              "    }\n",
              "\n",
              "    [theme=dark] .colab-df-convert {\n",
              "      background-color: #3B4455;\n",
              "      fill: #D2E3FC;\n",
              "    }\n",
              "\n",
              "    [theme=dark] .colab-df-convert:hover {\n",
              "      background-color: #434B5C;\n",
              "      box-shadow: 0px 1px 3px 1px rgba(0, 0, 0, 0.15);\n",
              "      filter: drop-shadow(0px 1px 2px rgba(0, 0, 0, 0.3));\n",
              "      fill: #FFFFFF;\n",
              "    }\n",
              "  </style>\n",
              "\n",
              "      <script>\n",
              "        const buttonEl =\n",
              "          document.querySelector('#df-ee1b273a-818d-4516-b8d8-7e7e845691ff button.colab-df-convert');\n",
              "        buttonEl.style.display =\n",
              "          google.colab.kernel.accessAllowed ? 'block' : 'none';\n",
              "\n",
              "        async function convertToInteractive(key) {\n",
              "          const element = document.querySelector('#df-ee1b273a-818d-4516-b8d8-7e7e845691ff');\n",
              "          const dataTable =\n",
              "            await google.colab.kernel.invokeFunction('convertToInteractive',\n",
              "                                                     [key], {});\n",
              "          if (!dataTable) return;\n",
              "\n",
              "          const docLinkHtml = 'Like what you see? Visit the ' +\n",
              "            '<a target=\"_blank\" href=https://colab.research.google.com/notebooks/data_table.ipynb>data table notebook</a>'\n",
              "            + ' to learn more about interactive tables.';\n",
              "          element.innerHTML = '';\n",
              "          dataTable['output_type'] = 'display_data';\n",
              "          await google.colab.output.renderOutput(dataTable, element);\n",
              "          const docLink = document.createElement('div');\n",
              "          docLink.innerHTML = docLinkHtml;\n",
              "          element.appendChild(docLink);\n",
              "        }\n",
              "      </script>\n",
              "    </div>\n",
              "  </div>\n",
              "  "
            ]
          },
          "metadata": {},
          "execution_count": 257
        }
      ]
    },
    {
      "cell_type": "markdown",
      "source": [
        "Segun se aprecia en la tabla, el mejor modelo es usando una regresion ridge con parametros C=1 y solver=\"sag\""
      ],
      "metadata": {
        "id": "Cjbpy46vVipk"
      }
    },
    {
      "cell_type": "markdown",
      "source": [
        "## K-folds k=10"
      ],
      "metadata": {
        "id": "JyK38bjAF_cm"
      }
    },
    {
      "cell_type": "markdown",
      "source": [
        "### Ridge"
      ],
      "metadata": {
        "id": "SVFXNSBxu4by"
      }
    },
    {
      "cell_type": "code",
      "source": [
        "from sklearn.model_selection import KFold\n",
        "cv = KFold(n_splits=10, random_state=666, shuffle=True)\n",
        "from sklearn.model_selection import cross_val_score\n",
        "\n",
        "solvers=['newton-cg','liblinear','sag']\n",
        "ridge_pred_pre_k10=[]\n",
        "j=0\n",
        "for i in c_range:\n",
        "  logreg = LogisticRegression(C=i, penalty='l2',solver=solvers[j],multi_class='auto')\n",
        "  scores = cross_val_score(logreg, X_train, y_train, scoring='precision', cv=cv, n_jobs=-1)\n",
        "  ridge_pred_pre_k10.append(np.mean(scores))\n",
        "  j+=1\n",
        "\n",
        "solvers=['newton-cg','liblinear','sag']\n",
        "ridge_pred_loss_k10=[]\n",
        "j=0\n",
        "for i in c_range:\n",
        "  logreg = LogisticRegression(C=i, penalty='l2',solver=solvers[j],multi_class='auto')\n",
        "  scores = cross_val_score(logreg, X_train, y_train, scoring='neg_log_loss', cv=cv, n_jobs=-1)\n",
        "  ridge_pred_loss_k10.append(abs(np.mean(scores)))\n",
        "  j+=1\n",
        "\n",
        "print(ridge_pred_pre_k10,ridge_pred_loss_k10)"
      ],
      "metadata": {
        "id": "GNFf7Z2eJgO-",
        "colab": {
          "base_uri": "https://localhost:8080/"
        },
        "outputId": "6631007a-e70c-4e0a-eba8-3a7220c5d493"
      },
      "execution_count": 236,
      "outputs": [
        {
          "output_type": "stream",
          "name": "stdout",
          "text": [
            "[0.8459219858156029, 0.8608837566226558, 0.8863543045967226] [0.4068522421103994, 0.3449104502562916, 0.3222238370429337]\n"
          ]
        }
      ]
    },
    {
      "cell_type": "markdown",
      "source": [
        "### Lasso"
      ],
      "metadata": {
        "id": "n5goUolVNKq8"
      }
    },
    {
      "cell_type": "code",
      "source": [
        "solvers=['liblinear','saga','liblinear']\n",
        "lasso_pred_pre_k10=[]\n",
        "j=0\n",
        "for i in c_range:\n",
        "  logreg = LogisticRegression(C=i, penalty='l1',solver=solvers[j],multi_class='auto')\n",
        "  scores = cross_val_score(logreg, X_train, y_train, scoring='precision', cv=cv, n_jobs=-1)\n",
        "  lasso_pred_pre_k10.append(np.mean(scores))\n",
        "  j+=1\n",
        "\n",
        "solvers=['liblinear','saga','liblinear']\n",
        "lasso_pred_loss_k10=[]\n",
        "j=0\n",
        "for i in c_range:\n",
        "  logreg = LogisticRegression(C=i, penalty='l1',solver=solvers[j],multi_class='auto')\n",
        "  scores = cross_val_score(logreg, X_train, y_train, scoring='neg_log_loss', cv=cv, n_jobs=-1)\n",
        "  lasso_pred_loss_k10.append(abs(np.mean(scores)))\n",
        "  j+=1\n",
        "\n",
        "print(lasso_pred_pre_k10,lasso_pred_loss_k10)"
      ],
      "metadata": {
        "colab": {
          "base_uri": "https://localhost:8080/"
        },
        "outputId": "ac16df43-822b-4f1e-81b6-cd3be0a52965",
        "id": "uuPBc4j8NKq9"
      },
      "execution_count": 237,
      "outputs": [
        {
          "output_type": "stream",
          "name": "stdout",
          "text": [
            "[0.8628366491664364, 0.8459219858156029, 0.886977123761724] [0.5458166523643224, 0.37741387490875133, 0.3246439120232766]\n"
          ]
        }
      ]
    },
    {
      "cell_type": "markdown",
      "source": [
        "## K-folds k=5"
      ],
      "metadata": {
        "id": "USZoI-5eSJzm"
      }
    },
    {
      "cell_type": "markdown",
      "source": [
        "### Ridge"
      ],
      "metadata": {
        "id": "4BtBLu2QPFgo"
      }
    },
    {
      "cell_type": "code",
      "source": [
        "cv = KFold(n_splits=5, random_state=666, shuffle=True)\n",
        "\n",
        "solvers=['newton-cg','liblinear','sag']\n",
        "ridge_pred_pre_k5=[]\n",
        "j=0\n",
        "for i in c_range:\n",
        "  logreg = LogisticRegression(C=i, penalty='l2',solver=solvers[j],multi_class='auto')\n",
        "  scores = cross_val_score(logreg, X_train, y_train, scoring='precision', cv=cv, n_jobs=-1)\n",
        "  ridge_pred_pre_k5.append(np.mean(scores))\n",
        "  j+=1\n",
        "\n",
        "solvers=['newton-cg','liblinear','sag']\n",
        "ridge_pred_loss_k5=[]\n",
        "j=0\n",
        "for i in c_range:\n",
        "  logreg = LogisticRegression(C=i, penalty='l2',solver=solvers[j],multi_class='auto')\n",
        "  scores = cross_val_score(logreg, X_train, y_train, scoring='neg_log_loss', cv=cv, n_jobs=-1)\n",
        "  ridge_pred_loss_k5.append(abs(np.mean(scores)))\n",
        "  j+=1\n",
        "\n",
        "print(ridge_pred_pre_k5,ridge_pred_loss_k5)"
      ],
      "metadata": {
        "colab": {
          "base_uri": "https://localhost:8080/"
        },
        "outputId": "c2a39184-5191-4c18-f786-c393cdeb65e8",
        "id": "kplADITHPFgw"
      },
      "execution_count": 238,
      "outputs": [
        {
          "output_type": "stream",
          "name": "stdout",
          "text": [
            "[0.8460022396416574, 0.8559719362464729, 0.8806524512532772] [0.41095607168780496, 0.34816606953536827, 0.32281721276133263]\n"
          ]
        }
      ]
    },
    {
      "cell_type": "markdown",
      "source": [
        "### Lasso"
      ],
      "metadata": {
        "id": "PlFxp0i5PFgx"
      }
    },
    {
      "cell_type": "code",
      "source": [
        "solvers=['liblinear','saga','liblinear']\n",
        "lasso_pred_pre_k5=[]\n",
        "j=0\n",
        "for i in c_range:\n",
        "  logreg = LogisticRegression(C=i, penalty='l1',solver=solvers[j],multi_class='auto')\n",
        "  scores = cross_val_score(logreg, X_train, y_train, scoring='precision', cv=cv, n_jobs=-1)\n",
        "  lasso_pred_pre_k5.append(np.mean(scores))\n",
        "  j+=1\n",
        "\n",
        "solvers=['liblinear','saga','liblinear']\n",
        "lasso_pred_loss_k5=[]\n",
        "j=0\n",
        "for i in c_range:\n",
        "  logreg = LogisticRegression(C=i, penalty='l1',solver=solvers[j],multi_class='auto')\n",
        "  scores = cross_val_score(logreg, X_train, y_train, scoring='neg_log_loss', cv=cv, n_jobs=-1)\n",
        "  lasso_pred_loss_k5.append(abs(np.mean(scores)))\n",
        "  j+=1\n",
        "\n",
        "print(lasso_pred_pre_k5,lasso_pred_loss_k5)"
      ],
      "metadata": {
        "colab": {
          "base_uri": "https://localhost:8080/"
        },
        "outputId": "5058d60b-b488-4098-aa11-2f6453f162fb",
        "id": "9LAGvncpPFgx"
      },
      "execution_count": 239,
      "outputs": [
        {
          "output_type": "stream",
          "name": "stdout",
          "text": [
            "[0.8566192266459358, 0.8460022396416574, 0.8835025200901561] [0.5816628570310787, 0.3859835670283625, 0.323730464213518]\n"
          ]
        }
      ]
    },
    {
      "cell_type": "markdown",
      "source": [
        "## K-folds tabla log loss"
      ],
      "metadata": {
        "id": "MLTvsZivRzez"
      }
    },
    {
      "cell_type": "code",
      "source": [
        "tabla=np.array([ridge_pred_loss_k10,\n",
        "               lasso_pred_loss_k10,\n",
        "               ridge_pred_loss_k5,\n",
        "               lasso_pred_loss_k5])\n",
        "frame=pd.DataFrame(tabla.T, index=c_range,columns=['ridge k10','lasso k10','ridge k5','lasso k5'])\n",
        "frame"
      ],
      "metadata": {
        "colab": {
          "base_uri": "https://localhost:8080/",
          "height": 143
        },
        "id": "kqIwA3JCRxUm",
        "outputId": "39972ea0-86c6-450a-95dc-48108d579bc4"
      },
      "execution_count": 255,
      "outputs": [
        {
          "output_type": "execute_result",
          "data": {
            "text/plain": [
              "      ridge k10  lasso k10  ridge k5  lasso k5\n",
              "0.01   0.406852   0.545817  0.410956  0.581663\n",
              "0.10   0.344910   0.377414  0.348166  0.385984\n",
              "1.00   0.322224   0.324644  0.322817  0.323730"
            ],
            "text/html": [
              "\n",
              "  <div id=\"df-a947a551-84b0-4b5a-9f7d-a1f1d5a5931e\">\n",
              "    <div class=\"colab-df-container\">\n",
              "      <div>\n",
              "<style scoped>\n",
              "    .dataframe tbody tr th:only-of-type {\n",
              "        vertical-align: middle;\n",
              "    }\n",
              "\n",
              "    .dataframe tbody tr th {\n",
              "        vertical-align: top;\n",
              "    }\n",
              "\n",
              "    .dataframe thead th {\n",
              "        text-align: right;\n",
              "    }\n",
              "</style>\n",
              "<table border=\"1\" class=\"dataframe\">\n",
              "  <thead>\n",
              "    <tr style=\"text-align: right;\">\n",
              "      <th></th>\n",
              "      <th>ridge k10</th>\n",
              "      <th>lasso k10</th>\n",
              "      <th>ridge k5</th>\n",
              "      <th>lasso k5</th>\n",
              "    </tr>\n",
              "  </thead>\n",
              "  <tbody>\n",
              "    <tr>\n",
              "      <th>0.01</th>\n",
              "      <td>0.406852</td>\n",
              "      <td>0.545817</td>\n",
              "      <td>0.410956</td>\n",
              "      <td>0.581663</td>\n",
              "    </tr>\n",
              "    <tr>\n",
              "      <th>0.10</th>\n",
              "      <td>0.344910</td>\n",
              "      <td>0.377414</td>\n",
              "      <td>0.348166</td>\n",
              "      <td>0.385984</td>\n",
              "    </tr>\n",
              "    <tr>\n",
              "      <th>1.00</th>\n",
              "      <td>0.322224</td>\n",
              "      <td>0.324644</td>\n",
              "      <td>0.322817</td>\n",
              "      <td>0.323730</td>\n",
              "    </tr>\n",
              "  </tbody>\n",
              "</table>\n",
              "</div>\n",
              "      <button class=\"colab-df-convert\" onclick=\"convertToInteractive('df-a947a551-84b0-4b5a-9f7d-a1f1d5a5931e')\"\n",
              "              title=\"Convert this dataframe to an interactive table.\"\n",
              "              style=\"display:none;\">\n",
              "        \n",
              "  <svg xmlns=\"http://www.w3.org/2000/svg\" height=\"24px\"viewBox=\"0 0 24 24\"\n",
              "       width=\"24px\">\n",
              "    <path d=\"M0 0h24v24H0V0z\" fill=\"none\"/>\n",
              "    <path d=\"M18.56 5.44l.94 2.06.94-2.06 2.06-.94-2.06-.94-.94-2.06-.94 2.06-2.06.94zm-11 1L8.5 8.5l.94-2.06 2.06-.94-2.06-.94L8.5 2.5l-.94 2.06-2.06.94zm10 10l.94 2.06.94-2.06 2.06-.94-2.06-.94-.94-2.06-.94 2.06-2.06.94z\"/><path d=\"M17.41 7.96l-1.37-1.37c-.4-.4-.92-.59-1.43-.59-.52 0-1.04.2-1.43.59L10.3 9.45l-7.72 7.72c-.78.78-.78 2.05 0 2.83L4 21.41c.39.39.9.59 1.41.59.51 0 1.02-.2 1.41-.59l7.78-7.78 2.81-2.81c.8-.78.8-2.07 0-2.86zM5.41 20L4 18.59l7.72-7.72 1.47 1.35L5.41 20z\"/>\n",
              "  </svg>\n",
              "      </button>\n",
              "      \n",
              "  <style>\n",
              "    .colab-df-container {\n",
              "      display:flex;\n",
              "      flex-wrap:wrap;\n",
              "      gap: 12px;\n",
              "    }\n",
              "\n",
              "    .colab-df-convert {\n",
              "      background-color: #E8F0FE;\n",
              "      border: none;\n",
              "      border-radius: 50%;\n",
              "      cursor: pointer;\n",
              "      display: none;\n",
              "      fill: #1967D2;\n",
              "      height: 32px;\n",
              "      padding: 0 0 0 0;\n",
              "      width: 32px;\n",
              "    }\n",
              "\n",
              "    .colab-df-convert:hover {\n",
              "      background-color: #E2EBFA;\n",
              "      box-shadow: 0px 1px 2px rgba(60, 64, 67, 0.3), 0px 1px 3px 1px rgba(60, 64, 67, 0.15);\n",
              "      fill: #174EA6;\n",
              "    }\n",
              "\n",
              "    [theme=dark] .colab-df-convert {\n",
              "      background-color: #3B4455;\n",
              "      fill: #D2E3FC;\n",
              "    }\n",
              "\n",
              "    [theme=dark] .colab-df-convert:hover {\n",
              "      background-color: #434B5C;\n",
              "      box-shadow: 0px 1px 3px 1px rgba(0, 0, 0, 0.15);\n",
              "      filter: drop-shadow(0px 1px 2px rgba(0, 0, 0, 0.3));\n",
              "      fill: #FFFFFF;\n",
              "    }\n",
              "  </style>\n",
              "\n",
              "      <script>\n",
              "        const buttonEl =\n",
              "          document.querySelector('#df-a947a551-84b0-4b5a-9f7d-a1f1d5a5931e button.colab-df-convert');\n",
              "        buttonEl.style.display =\n",
              "          google.colab.kernel.accessAllowed ? 'block' : 'none';\n",
              "\n",
              "        async function convertToInteractive(key) {\n",
              "          const element = document.querySelector('#df-a947a551-84b0-4b5a-9f7d-a1f1d5a5931e');\n",
              "          const dataTable =\n",
              "            await google.colab.kernel.invokeFunction('convertToInteractive',\n",
              "                                                     [key], {});\n",
              "          if (!dataTable) return;\n",
              "\n",
              "          const docLinkHtml = 'Like what you see? Visit the ' +\n",
              "            '<a target=\"_blank\" href=https://colab.research.google.com/notebooks/data_table.ipynb>data table notebook</a>'\n",
              "            + ' to learn more about interactive tables.';\n",
              "          element.innerHTML = '';\n",
              "          dataTable['output_type'] = 'display_data';\n",
              "          await google.colab.output.renderOutput(dataTable, element);\n",
              "          const docLink = document.createElement('div');\n",
              "          docLink.innerHTML = docLinkHtml;\n",
              "          element.appendChild(docLink);\n",
              "        }\n",
              "      </script>\n",
              "    </div>\n",
              "  </div>\n",
              "  "
            ]
          },
          "metadata": {},
          "execution_count": 255
        }
      ]
    },
    {
      "cell_type": "markdown",
      "source": [
        "Segun el k-folds, el mejor modelo es un Ridge con parametros C=1 y solver=\"sag\". Por ambos metodos se obtuvo el mismo modelo, por lo que se asume como el mejor"
      ],
      "metadata": {
        "id": "3rxRFa9cUE4p"
      }
    },
    {
      "cell_type": "markdown",
      "source": [
        "# Conclusiones"
      ],
      "metadata": {
        "id": "VICmrndCJhNM"
      }
    },
    {
      "cell_type": "code",
      "source": [
        "logreg = LogisticRegression(C=1, penalty='l2',solver='sag',multi_class='auto')\n",
        "logreg.fit(X_train,y_train)\n",
        "a=pd.DataFrame(logreg.coef_.T, index=X.columns,columns=['Bethas'])\n",
        "print(a,\"\\n \\n Intercepto \",logreg.intercept_)"
      ],
      "metadata": {
        "id": "L8ynushYB8c3",
        "colab": {
          "base_uri": "https://localhost:8080/"
        },
        "outputId": "464459e5-1bfe-4b2a-f363-0dbbba3816c5"
      },
      "execution_count": 272,
      "outputs": [
        {
          "output_type": "stream",
          "name": "stdout",
          "text": [
            "               Bethas\n",
            "failures_1  -1.343202\n",
            "failures_2  -1.634941\n",
            "failures_3  -1.787345\n",
            "higher_yes   1.104559\n",
            "school_gp    1.343998\n",
            "fedu_1      -0.492309\n",
            "fedu_2      -0.226100\n",
            "fedu_3       0.687577\n",
            "fedu_4      -0.134601\n",
            "studytime_2  0.457399\n",
            "studytime_3  0.767738\n",
            "studytime_4  0.488015 \n",
            " \n",
            " Intercepto  [0.34578748]\n"
          ]
        }
      ]
    },
    {
      "cell_type": "markdown",
      "source": [
        "La interpretación del intercepto corresponde a la ausencia de las demas variables dicotomicas, es decir que correspondan a su variable dominio, las probabilidades logaritmicas de que el estudiante apruebe aumentan en 0.3457.\n",
        "\n",
        "Con respecto a los demas bethas, sus interpretaciones vienen siendo en comparación a la variable dominio. Por ejemplo, los estudiantes que tienen 1 materia perdida, sus probabilidades logaritmicas de aprobar el tercer periodo son 1.3432 unidades menores a que si tuviera 0 materias perdidas. Todas las interpretaciones van sujetas a su signo para representar si las probabilidades logaritmicas aumentan o disminuyen en comparación a la variable dominio."
      ],
      "metadata": {
        "id": "2IifAfBOYjrI"
      }
    }
  ]
}