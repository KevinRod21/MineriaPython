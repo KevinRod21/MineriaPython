{
 "cells": [
  {
   "cell_type": "code",
   "execution_count": 2,
   "id": "00048e72",
   "metadata": {},
   "outputs": [
    {
     "data": {
      "text/plain": [
       "4.444444444444445"
      ]
     },
     "execution_count": 2,
     "metadata": {},
     "output_type": "execute_result"
    }
   ],
   "source": [
    "def centigrados(g):\n",
    "    return((g-32)/1.8) #formula fahreheit a centigrados (grados F-32)/1.8 \n",
    "centigrados(40)"
   ]
  },
  {
   "cell_type": "code",
   "execution_count": 2,
   "id": "6457a92b",
   "metadata": {},
   "outputs": [
    {
     "name": "stdout",
     "output_type": "stream",
     "text": [
      "Por favor introduzca una contraseña Ñero123*\n",
      "Su contraseña creada con éxito\n"
     ]
    }
   ],
   "source": [
    "password=input(\"Por favor introduzca una contraseña \") #Solicita contraseña\n",
    "a=0;caracteres=[\"*\", \"_\" , \"!\", \"$\", \"%\"] #Variables y caracteres necesarios\n",
    "if not any(i.isupper() for i in password): #if not revisara si en el any se retorna un false en caso de no haber mayusculas\n",
    "    print(\"La contraseña debe incluir almenos una mayuscula\");a=a+1 #en caso de ocurrir guarda el error en la variable a\n",
    "if not any(i.isdigit() for i in password): #if not revisara si en el any se retorna un false en caso de no haber numeros\n",
    "    print(\"La contraseña debe incluir almenos un caracter numerico\");a=a+1\n",
    "if not any(i in caracteres for i in password): #if not revisara si en el any se retorna un false en caso de no tener simbolos\n",
    "    print(\"La contraseña debe incluir almenos uno de los siguientes caracteres:*, _ , !, $, %\");a=a+1\n",
    "if a==0: print(\"Su contraseña creada con éxito\") #si no se guarda ningun error, imprime el mensaje de exito"
   ]
  },
  {
   "cell_type": "code",
   "execution_count": 31,
   "id": "ce6faf64",
   "metadata": {
    "scrolled": true
   },
   "outputs": [
    {
     "name": "stdout",
     "output_type": "stream",
     "text": [
      "Las combinaciones de libros que generan un menor valor de compra son:  \n",
      " ('Libro 1', 'Libro 3', 'Libro 5') \n",
      " ('Libro 2', 'Libro 4', 'Libro 6') \n",
      "sumando un total de:  250000\n"
     ]
    }
   ],
   "source": [
    "import itertools as it #para crear las combinaciones\n",
    "import pandas as pd #panditas\n",
    "c=('Libro 1','Libro 2','Libro 3','Libro 4','Libro 5','Libro 6')\n",
    "p=(50000, 30000, 80000, 20000, 100000, 40000)\n",
    "precios=list(it.combinations(p,3)) #combinaciones de libros\n",
    "comb=list(it.combinations(c,3)) #combinaciones de precios\n",
    "datos={'Libros':comb,\n",
    "        'Precios':precios}\n",
    "df=pd.DataFrame(datos) #dataframe\n",
    "df_1=df.assign(Precio_SD= lambda dataframe: dataframe['Precios'].map(lambda Precios: sum(Precios)) #creacion de los precios sumando sus combinaciones\n",
    "         ).assign(Descuento= lambda dataframe: dataframe['Precios'].map(lambda Precios: min(Precios)) #sacando el descuento correspondiente al minimo\n",
    "                 ).assign(Total= lambda dataframe: dataframe['Precio_SD']-dataframe['Descuento']) #creacion del total\n",
    "df_2=df_1[0:10].assign(Libros_2=df_1['Libros'][10:20].sort_index(ascending=False).reset_index(drop=True) #al invertir la otra mitad de los elementos, se obtienen las parejas\n",
    "                      ).assign(Descuento_2=df_1['Descuento'][10:20].sort_index(ascending=False).reset_index(drop=True)\n",
    "                      ).assign(Total_2=df_1['Total'][10:20].sort_index(ascending=False).reset_index(drop=True)\n",
    "                              ).drop(['Precios','Precio_SD'],axis=1)\n",
    "df_2=df_2.assign(Final= lambda dataframe: dataframe['Total']+dataframe['Total_2']) #creacion suma de parejas de combinaciones\n",
    "final=df_2[df_2.loc[:,'Final']==df_2.min()[6]].reset_index(drop=True) #seleccion del menor precio final\n",
    "print(\"Las combinaciones de libros que generan un menor valor de compra son: \",\"\\n\",final['Libros'][0], \"\\n\", final['Libros_2'][0], \"\\nsumando un total de: \",final['Final'][0])"
   ]
  }
 ],
 "metadata": {
  "kernelspec": {
   "display_name": "Python 3 (ipykernel)",
   "language": "python",
   "name": "python3"
  },
  "language_info": {
   "codemirror_mode": {
    "name": "ipython",
    "version": 3
   },
   "file_extension": ".py",
   "mimetype": "text/x-python",
   "name": "python",
   "nbconvert_exporter": "python",
   "pygments_lexer": "ipython3",
   "version": "3.9.12"
  }
 },
 "nbformat": 4,
 "nbformat_minor": 5
}
